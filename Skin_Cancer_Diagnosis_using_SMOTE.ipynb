{
  "cells": [
    {
      "cell_type": "markdown",
      "metadata": {
        "id": "view-in-github",
        "colab_type": "text"
      },
      "source": [
        "<a href=\"https://colab.research.google.com/github/heroza/Oversampling/blob/main/Skin_Cancer_Diagnosis_using_SMOTE.ipynb\" target=\"_parent\"><img src=\"https://colab.research.google.com/assets/colab-badge.svg\" alt=\"Open In Colab\"/></a>"
      ]
    },
    {
      "cell_type": "code",
      "execution_count": 1,
      "metadata": {
        "colab": {
          "base_uri": "https://localhost:8080/"
        },
        "id": "Eus_4tUgfEk9",
        "outputId": "0bafd2f9-d414-4843-d940-b587f059550b"
      },
      "outputs": [
        {
          "output_type": "stream",
          "name": "stdout",
          "text": [
            "Mounted at /content/drive\n"
          ]
        }
      ],
      "source": [
        "from google.colab import drive\n",
        "drive.mount('/content/drive')"
      ]
    },
    {
      "cell_type": "markdown",
      "metadata": {
        "id": "LfcFpsBwM0d4"
      },
      "source": [
        "#Attention"
      ]
    },
    {
      "cell_type": "code",
      "execution_count": 2,
      "metadata": {
        "id": "C_s6OIGKM26a"
      },
      "outputs": [],
      "source": [
        "import tensorflow as tf\n",
        "import tensorflow.keras as tk\n",
        "from tensorflow.keras.layers import Conv2D,MaxPooling2D,AveragePooling2D,BatchNormalization,Add,ZeroPadding2D,Flatten,Dense,Input,LeakyReLU,Softmax,ReLU\n",
        "from tensorflow.keras.optimizers import Adam\n",
        "from tensorflow.keras.models import Model\n",
        "import numpy as np\n",
        "import pickle\n",
        "import numpy as np\n",
        "from PIL import Image\n",
        "\n",
        "class Attention(tk.layers.Layer):\n",
        "    \n",
        "    def __init__(self,input_channels,output_channel,kernel_size,groups):\n",
        "        super().__init__()\n",
        "        self.input_channels = input_channels\n",
        "        self.output_channel = output_channel    \n",
        "        self.kernel_size = kernel_size\n",
        "        self.stride = 1\n",
        "        self.groups = groups\n",
        "\n",
        "        assert output_channel % groups == 0\n",
        "        \n",
        "        self.rel_h = tk.backend.variable(lambda : tk.backend.truncated_normal((1,1,kernel_size,1,output_channel//2),stddev = 0.1)) \n",
        "        #output_channels//2 is the number of channels on which the relative position will be considered,1 denotes the number of those filters and the one after that too and (kernel_size,1) denotes the size of that filter\n",
        "        self.rel_w = tk.backend.variable(lambda : tk.backend.truncated_normal((1,1,1,kernel_size,output_channel//2),stddev = 0.1)) \n",
        "\n",
        "        self.key_weights = Conv2D(self.output_channel,kernel_size = 1,strides = self.stride)\n",
        "        self.query_weights = Conv2D(self.output_channel,kernel_size = 1,strides = self.stride)\n",
        "        self.value_weights = Conv2D(self.output_channel,kernel_size = 1,strides = self.stride)\n",
        "\n",
        "    def call(self,x):\n",
        "        \n",
        "        batch,height,width,channels = x.shape\n",
        "        x_padded = ZeroPadding2D(padding=(self.kernel_size//2,self.kernel_size//2))(x)\n",
        "        query = self.query_weights(x)\n",
        "        value = self.value_weights(x_padded)\n",
        "        key = self.key_weights(x_padded)\n",
        "        #key,query and value will have the shape of (batch,height,width,depth)\n",
        "        keys = tf.image.extract_patches(images = key,sizes = [1,self.kernel_size,self.kernel_size,1],strides = [1,self.stride,self.stride,1],rates = [1,1,1,1], padding = \"VALID\")\n",
        "        value = tf.image.extract_patches(images = value,sizes = [1,self.kernel_size,self.kernel_size,1],strides = [1,self.stride,self.stride,1],rates = [1,1,1,1], padding = \"VALID\")\n",
        "        no_of_kernels = key.shape[-2] - self.kernel_size + 1\n",
        "        keys = tf.reshape(keys,shape = (-1,no_of_kernels, no_of_kernels,self.kernel_size,self.kernel_size,self.output_channel))\n",
        "        key_split_h,key_split_w = tf.split(keys,num_or_size_splits = 2,axis = -1)\n",
        "        key_with_rel = tk.layers.concatenate([key_split_h + self.rel_h,key_split_w + self.rel_w],axis = -1) \n",
        "        \n",
        "        #reshaping the query and key\n",
        "        key_with_rel = tf.reshape(key_with_rel,(-1,self.groups,no_of_kernels,no_of_kernels,self.kernel_size*self.kernel_size,self.output_channel//self.groups))\n",
        "        query  = tf.reshape(query,(-1,self.groups,no_of_kernels,no_of_kernels,1,self.output_channel//self.groups))        \n",
        "        value = tf.reshape(value,(-1,self.groups,no_of_kernels,no_of_kernels,self.kernel_size*self.kernel_size,self.output_channel//self.groups))\n",
        "        \n",
        "        #multiplication  of key and query\n",
        "        #assert key_with_rel.shape == query.shape        \n",
        "        key_prod_query = query*key_with_rel\n",
        "        \n",
        "        # Now the function is passed through the softmax and is multiplied with the values\n",
        "        s = Softmax(axis = -2)(key_prod_query)\n",
        "        y = tf.einsum('bnchwk,bnchwk->bnchk',s,value)\n",
        "        y = tf.reshape(y,(-1,height,width,self.output_channel))\n",
        "        return y\n",
        "\n",
        "    def get_config(self):\n",
        "        config = super().get_config().copy()\n",
        "        config.update({\n",
        "            \"input_channels\": self.input_channels, \n",
        "            \"output_channel\": self.output_channel, \n",
        "            \"kernel_size\": self.kernel_size, \n",
        "            \"stride\": self.stride, \n",
        "            \"groups\": self.groups, \n",
        "            \"rel_h\": self.rel_h, \n",
        "            \"rel_w\": self.rel_w, \n",
        "            \"key_weights\": self.key_weights, \n",
        "            \"query_weights\": self.query_weights, \n",
        "            \"value_weights\": self.value_weights\n",
        "        })\n",
        "        return config\n"
      ]
    },
    {
      "cell_type": "markdown",
      "metadata": {
        "id": "E_x4c0_DTkaa"
      },
      "source": [
        "#Library, atribut, and function"
      ]
    },
    {
      "cell_type": "code",
      "execution_count": 1,
      "metadata": {
        "colab": {
          "base_uri": "https://localhost:8080/"
        },
        "id": "nR2MJBYq-oiB",
        "outputId": "0db028d8-7aef-4be6-8d66-c8ee3ef44927"
      },
      "outputs": [
        {
          "output_type": "stream",
          "name": "stdout",
          "text": [
            "Looking in indexes: https://pypi.org/simple, https://us-python.pkg.dev/colab-wheels/public/simple/\n",
            "Requirement already satisfied: imbalanced-learn in /usr/local/lib/python3.7/dist-packages (0.8.1)\n",
            "Requirement already satisfied: joblib>=0.11 in /usr/local/lib/python3.7/dist-packages (from imbalanced-learn) (1.1.0)\n",
            "Requirement already satisfied: scikit-learn>=0.24 in /usr/local/lib/python3.7/dist-packages (from imbalanced-learn) (1.0.2)\n",
            "Requirement already satisfied: numpy>=1.13.3 in /usr/local/lib/python3.7/dist-packages (from imbalanced-learn) (1.21.6)\n",
            "Requirement already satisfied: scipy>=0.19.1 in /usr/local/lib/python3.7/dist-packages (from imbalanced-learn) (1.7.3)\n",
            "Requirement already satisfied: threadpoolctl>=2.0.0 in /usr/local/lib/python3.7/dist-packages (from scikit-learn>=0.24->imbalanced-learn) (3.1.0)\n"
          ]
        }
      ],
      "source": [
        "import pandas as pd\n",
        "import numpy as np\n",
        "import tensorflow as tf\n",
        "import matplotlib.pyplot as plt\n",
        "import seaborn as sns\n",
        "import os\n",
        "from collections import Counter\n",
        "from pathlib import Path\n",
        "from PIL import Image\n",
        "from sklearn import preprocessing\n",
        "from sklearn.metrics import precision_recall_fscore_support, balanced_accuracy_score, confusion_matrix, accuracy_score\n",
        "from keras.callbacks import ReduceLROnPlateau, EarlyStopping, ModelCheckpoint\n",
        "from keras.preprocessing.image import ImageDataGenerator\n",
        "from keras.models import Sequential\n",
        "from keras.layers import Conv2D, MaxPooling2D, UpSampling2D\n",
        "from tensorflow import keras\n",
        "from tensorflow.keras import layers\n",
        "from tensorflow.keras.optimizers import Adam, SGD\n",
        "from tensorflow.keras.preprocessing import image\n",
        "from tensorflow.keras.applications.resnet50 import ResNet50, preprocess_input, decode_predictions\n",
        "from tensorflow.keras.applications.inception_v3 import InceptionV3, preprocess_input\n",
        "from tensorflow.keras.layers import GlobalAveragePooling2D, Dense, Input, Dropout, Flatten\n",
        "from tensorflow.keras.models import Model, load_model\n",
        "from keras.utils.np_utils import to_categorical\n",
        "\n",
        "!pip install imbalanced-learn\n",
        "import imblearn\n",
        "from imblearn.over_sampling import SMOTE, BorderlineSMOTE, SVMSMOTE, ADASYN, KMeansSMOTE"
      ]
    },
    {
      "cell_type": "code",
      "execution_count": 2,
      "metadata": {
        "id": "9-c7Xghg4SB4"
      },
      "outputs": [],
      "source": [
        "# input image size\n",
        "IMAGE_W = 224\n",
        "IMAGE_H = 224\n",
        "IMG_SIZE = (IMAGE_W,IMAGE_H)\n",
        "num_classes = 7\n",
        "EPOCHS = 10\n",
        "BATCH_SIZE = 64\n",
        "opt_adam = Adam(learning_rate=0.001, beta_1=0.9, beta_2=0.999, epsilon=None, decay=0.0, amsgrad=False)\n",
        "opt_SGD = SGD(learning_rate=0.001)\n",
        "the_arch = 'resnet50'\n",
        "\n",
        "#Data augmentation\n",
        "data_augmentation = tf.keras.Sequential([\n",
        "  layers.experimental.preprocessing.RandomFlip(\"horizontal_and_vertical\"),\n",
        "  layers.experimental.preprocessing.RandomRotation(0.2), \n",
        "  layers.experimental.preprocessing.RandomZoom(height_factor=(0.2, 0.3), width_factor=(0.2, 0.3)),\n",
        "  layers.experimental.preprocessing.RandomTranslation(0.3, 0.3, fill_mode='reflect', interpolation='bilinear',)\n",
        "])\n",
        "\n",
        "#Callbacks\n",
        "best_model_fpath = '/content/drive/MyDrive/PHD/Model/best_model_attention.h5'\n",
        "last_model_fpath = '/content/drive/MyDrive/PHD/Model/last_model_attention.h5'\n",
        "mc = ModelCheckpoint(best_model_fpath, monitor='val_balanced_acc', mode='max', verbose=1, save_best_only=True)\n",
        "learning_rate_reduction = ReduceLROnPlateau(monitor='val_balanced_acc', patience=20, verbose=1, factor=0.5, min_lr=0.00001)\n",
        "early_stopping_monitor = EarlyStopping(patience=30,monitor='val_balanced_acc')\n"
      ]
    },
    {
      "cell_type": "code",
      "execution_count": 3,
      "metadata": {
        "id": "JffFid9sOXeo"
      },
      "outputs": [],
      "source": [
        "# load train and test dataset\n",
        "def preprocess_image_input(input_images, arch = the_arch):\n",
        "  input_images = input_images.astype('float32')\n",
        "  if arch == 'inception_v3':\n",
        "    output_ims = tf.keras.applications.inception_v3.preprocess_input(input_images)\n",
        "  else:\n",
        "    output_ims = tf.keras.applications.resnet50.preprocess_input(input_images)\n",
        "  return output_ims\n",
        "\n",
        "def load_cifar10_dataset():\n",
        "  from keras.datasets import cifar10\n",
        "    # load dataset\n",
        "  (X_train, y_train), (X_val, y_val) = cifar10.load_data()\n",
        "    # one hot encode target values\n",
        "  y_train = to_categorical(y_train)\n",
        "  y_val = to_categorical(y_val)\n",
        "\n",
        "  return X_train, y_train, X_val, y_val\n",
        "\n",
        "def balanced_acc(y_true, y_pred):\n",
        "    from keras import backend as K\n",
        "\n",
        "    tensor1 = tf.math.argmax(y_true, axis=1)\n",
        "    tensor2 = tf.math.argmax(y_pred, axis=1)\n",
        "\n",
        "    cm = tf.math.confusion_matrix(tensor1, tensor2)\n",
        "    \n",
        "    diag = tf.linalg.tensor_diag_part (cm)\n",
        "    tpfn = tf.cast(K.sum(cm, axis = 1), tf.float32) + K.epsilon()\n",
        "    recall = tf.divide(tf.cast(diag, tf.float32),tpfn)\n",
        "    balanced_acc = K.mean(recall)\n",
        "    return balanced_acc\n",
        "\n",
        "def define_model():\n",
        "    model = Sequential()\n",
        "    model.add(Conv2D(32, (3, 3), activation='relu', kernel_initializer='he_uniform', padding='same', input_shape=(32, 32, 3)))\n",
        "    model.add(Conv2D(32, (3, 3), activation='relu', kernel_initializer='he_uniform', padding='same'))\n",
        "    model.add(MaxPooling2D((2, 2)))\n",
        "    model.add(Flatten())\n",
        "    model.add(Dense(128, activation='relu', kernel_initializer='he_uniform'))\n",
        "    model.add(Dense(10, activation='softmax'))\n",
        "    # compile model\n",
        "    opt = SGD(learning_rate=0.001, momentum=0.9)\n",
        "    model.compile(optimizer=opt, loss='categorical_crossentropy', metrics=['accuracy'])\n",
        "    return model\n",
        "\n",
        "def define_base_model(arch = the_arch, start_trainable_layer = 9999, attention=False):\n",
        "  #x = UpSampling2D(size=(7,7))(input_tensor)\n",
        "  #x = data_augmentation(input_tensor)\n",
        "  #x = layers.Rescaling(1.0 / 255)(input_tensor)  # Rescale inputs\n",
        "  if arch != 'dense':\n",
        "    input_tensor = Input(shape=(IMAGE_H, IMAGE_W, 3))\n",
        "    if arch == 'resnet50':\n",
        "      base_model = ResNet50(input_tensor=input_tensor, weights='imagenet', include_top=False)\n",
        "    elif arch == 'inception_v3':\n",
        "      base_model = InceptionV3(input_tensor=input_tensor, weights='imagenet', include_top=False)\n",
        "    elif arch == 'ResNet':\n",
        "      base_model = ResNet(classes ,image_shape)(input_tensor)\n",
        "    x = base_model.output\n",
        "    if attention:\n",
        "      x = Attention(1024,1024,7,8)(x)\n",
        "    x = GlobalAveragePooling2D()(x)\n",
        "    for layer in base_model.layers:\n",
        "      layer.trainable = False\n",
        "    if start_trainable_layer != 9999:\n",
        "      for layer in base_model.layers[start_trainable_layer:]:\n",
        "        layer.trainable = True\n",
        "  else:\n",
        "    input_tensor = Input(shape=(2048))\n",
        "    x = input_tensor\n",
        "  #x = Flatten()(x)\n",
        "  x = Dense(1024, activation='relu')(x)\n",
        "  x = Dropout(0.2)(x)\n",
        "  x = Dense(512, activation='relu')(x)\n",
        "  predictions = Dense(num_classes, activation='softmax')(x)\n",
        "  model = Model(inputs=input_tensor, outputs=predictions)\n",
        "  model.compile(optimizer = opt_SGD , loss = \"categorical_crossentropy\", metrics=['accuracy', balanced_acc])\n",
        "  return model\n",
        "\n",
        "# plot diagnostic learning curves\n",
        "def summarize_diagnostics(history):\n",
        "    # plot loss\n",
        "    plt.subplot(211)\n",
        "    plt.title('Cross Entropy Loss')\n",
        "    plt.plot(history.history['loss'], color='blue', label='train')\n",
        "    plt.plot(history.history['val_loss'], color='orange', label='test')\n",
        "    # plot accuracy\n",
        "    plt.subplot(212)\n",
        "    plt.title('Classification Accuracy')\n",
        "    plt.plot(history.history['accuracy'], color='blue', label='train')\n",
        "    plt.plot(history.history['val_accuracy'], color='orange', label='test')\n",
        " \n",
        "# scale pixels\n",
        "def norm_pixels(train, test):\n",
        "    # convert from integers to floats\n",
        "    train_norm = train.astype('float32')\n",
        "    test_norm = test.astype('float32')\n",
        "    # normalize to range 0-1\n",
        "    train_norm = train_norm / 255.0\n",
        "    test_norm = test_norm / 255.0\n",
        "    # return normalized images\n",
        "    return train_norm, test_norm\n",
        "\n",
        "def load_isic2018_dataset(train_under_frac = 0):\n",
        "  df_train = pd.read_csv('/content/drive/MyDrive/PHD/Datasets/isic2018/ISIC2018_Task3_Training_GroundTruth/ISIC2018_Task3_Training_GroundTruth.csv') \n",
        "  df_val = pd.read_csv('/content/drive/MyDrive/PHD/Datasets/isic2018/ISIC2018_Task3_Validation_GroundTruth/ISIC2018_Task3_Validation_GroundTruth.csv') \n",
        "\n",
        "  #decode one hot label\n",
        "  df_train[\"Labels\"] = (df_train.iloc[:, 1:]).idxmax(axis=1)\n",
        "  df_val[\"Labels\"] = (df_val.iloc[:, 1:]).idxmax(axis=1)\n",
        "\n",
        "  #random undersampling for training dataset\n",
        "  if train_under_frac !=0:\n",
        "    df_train = df_train.drop(df_train[df_train['Labels'] == 'NV'].sample(frac=train_under_frac).index)\n",
        "\n",
        "  #drop one-hot column\n",
        "  df_train = df_train.drop(columns=['MEL', 'NV', 'BCC', 'AKIEC', 'BKL', 'DF', 'VASC'])\n",
        "  df_val = df_val.drop(columns=['MEL', 'NV', 'BCC', 'AKIEC', 'BKL', 'DF', 'VASC'])\n",
        "\n",
        "  #make filepaths of the image\n",
        "  dir_train = '/content/drive/MyDrive/PHD/Datasets/isic2018/ISIC2018_Task3_Training_Input/'\n",
        "  dir_val = '/content/drive/MyDrive/PHD/Datasets/isic2018/ISIC2018_Task3_Validation_Input/'\n",
        "  df_train['FilePaths'] = dir_train + df_train['image'] + '.jpg'\n",
        "  df_val['FilePaths'] = dir_val + df_val['image'] + '.jpg'\n",
        "  \n",
        "  #load image pixels to dataframe\n",
        "  df_train['image_px'] = df_train['FilePaths'].map(lambda x: np.asarray(Image.open(x).resize(IMG_SIZE)))\n",
        "  df_val['image_px'] = df_val['FilePaths'].map(lambda x: np.asarray(Image.open(x).resize(IMG_SIZE)))\n",
        "\n",
        "  X_train = np.asarray(df_train['image_px'].tolist())\n",
        "  X_val = np.asarray(df_val['image_px'].tolist())\n",
        "  y_train = np.array(df_train['Labels'].values)\n",
        "  y_val = np.array(df_val['Labels'].values)\n",
        "\n",
        "  label_encoder = preprocessing.LabelEncoder()\n",
        "  y_train = label_encoder.fit_transform(y_train)\n",
        "  y_val = label_encoder.fit_transform(y_val)\n",
        "  \n",
        "  y_train = to_categorical(y_train, num_classes = num_classes)\n",
        "  y_val = to_categorical(y_val, num_classes = num_classes)\n",
        "\n",
        "  return X_train, y_train, X_val, y_val, df_train, df_val\n",
        "\n",
        "def reset_dataset(df_train, df_val):\n",
        "  X_train = np.asarray(df_train['image_px'].tolist())\n",
        "  X_val = np.asarray(df_val['image_px'].tolist())\n",
        "  y_train = np.array(df_train['Labels'].values)\n",
        "  y_val = np.array(df_val['Labels'].values)\n",
        "\n",
        "  X_train = preprocess_image_input(X_train, the_arch)\n",
        "  X_val = preprocess_image_input(X_val, the_arch)\n",
        "\n",
        "  label_encoder = preprocessing.LabelEncoder()\n",
        "  y_train = label_encoder.fit_transform(y_train)\n",
        "  y_val = label_encoder.fit_transform(y_val)\n",
        "  \n",
        "  y_train = to_categorical(y_train, num_classes = num_classes)\n",
        "  y_val = to_categorical(y_val, num_classes = num_classes)\n",
        "  return X_train, y_train, X_val, y_val\n",
        "\n",
        "def SMOTE_Data(X, y, one_hot = False, k = 5, width = IMAGE_W, height = IMAGE_H, c = 3, type = 'smote'):\n",
        "  if one_hot:\n",
        "    y = np.argmax(y, axis=1)\n",
        "  if type == 'borderline':\n",
        "    sm = BorderlineSMOTE()\n",
        "  elif type == 'svm':\n",
        "    sm = SVMSMOTE()\n",
        "  elif type == 'adasyn':\n",
        "    sm = ADASYN()\n",
        "  elif type == 'kmeans':\n",
        "    sm = KMeansSMOTE()\n",
        "  else:\n",
        "    sm = SMOTE(random_state=42, k_neighbors=k)\n",
        "  X_resampled, y_resampled = sm.fit_resample(X.reshape((-1, width * height * c)), y)\n",
        "  X_resampled = X_resampled.reshape(-1, width, height, c)\n",
        "  if one_hot:\n",
        "    y_resampled = to_categorical(y_resampled, num_classes = num_classes)\n",
        "  else:\n",
        "    y_resampled = y_resampled.reshape(-1,1)\n",
        "  return X_resampled, y_resampled\n",
        "\n",
        "def SMOTE_Data2(X, y, one_hot = False, k = 5):\n",
        "  if one_hot:\n",
        "    y = np.argmax(y, axis=1)\n",
        "  sm = SMOTE(random_state=42, k_neighbors=k)\n",
        "  X_resampled, y_resampled = sm.fit_resample(X, y)\n",
        "  if one_hot:\n",
        "    y_resampled = to_categorical(y_resampled, num_classes = num_classes)\n",
        "  else:\n",
        "    y_resampled = y_resampled.reshape(-1,1)\n",
        "  return X_resampled, y_resampled"
      ]
    },
    {
      "cell_type": "markdown",
      "metadata": {
        "id": "UswA0co2y1wl"
      },
      "source": [
        "#Exp"
      ]
    },
    {
      "cell_type": "code",
      "execution_count": null,
      "metadata": {
        "id": "dnqJYIONy34l"
      },
      "outputs": [],
      "source": [
        "input_tensor = Input(shape=(IMAGE_H, IMAGE_W, 3))\n",
        "base_model = ResNet50(input_shape=(224,224,3), weights='imagenet', include_top=False)\n",
        "x = base_model(input_tensor, training=False)\n",
        "x = Attention(2048,2048,7,8)(x)\n",
        "x = GlobalAveragePooling2D()(x)\n",
        "res50 = Model(inputs=input_tensor, outputs=x)"
      ]
    },
    {
      "cell_type": "code",
      "execution_count": null,
      "metadata": {
        "colab": {
          "base_uri": "https://localhost:8080/"
        },
        "id": "Kcn8hQg3J8yP",
        "outputId": "cafd4d2f-96b5-412d-d362-198d81223729"
      },
      "outputs": [
        {
          "name": "stdout",
          "output_type": "stream",
          "text": [
            "0 input_1 (None, 224, 224, 3)\n",
            "1 conv1_pad (None, 230, 230, 3)\n",
            "2 conv1_conv (None, 112, 112, 64)\n",
            "3 conv1_bn (None, 112, 112, 64)\n",
            "4 conv1_relu (None, 112, 112, 64)\n",
            "5 pool1_pad (None, 114, 114, 64)\n",
            "6 pool1_pool (None, 56, 56, 64)\n",
            "7 conv2_block1_1_conv (None, 56, 56, 64)\n",
            "8 conv2_block1_1_bn (None, 56, 56, 64)\n",
            "9 conv2_block1_1_relu (None, 56, 56, 64)\n",
            "10 conv2_block1_2_conv (None, 56, 56, 64)\n",
            "11 conv2_block1_2_bn (None, 56, 56, 64)\n",
            "12 conv2_block1_2_relu (None, 56, 56, 64)\n",
            "13 conv2_block1_0_conv (None, 56, 56, 256)\n",
            "14 conv2_block1_3_conv (None, 56, 56, 256)\n",
            "15 conv2_block1_0_bn (None, 56, 56, 256)\n",
            "16 conv2_block1_3_bn (None, 56, 56, 256)\n",
            "17 conv2_block1_add (None, 56, 56, 256)\n",
            "18 conv2_block1_out (None, 56, 56, 256)\n",
            "19 conv2_block2_1_conv (None, 56, 56, 64)\n",
            "20 conv2_block2_1_bn (None, 56, 56, 64)\n",
            "21 conv2_block2_1_relu (None, 56, 56, 64)\n",
            "22 conv2_block2_2_conv (None, 56, 56, 64)\n",
            "23 conv2_block2_2_bn (None, 56, 56, 64)\n",
            "24 conv2_block2_2_relu (None, 56, 56, 64)\n",
            "25 conv2_block2_3_conv (None, 56, 56, 256)\n",
            "26 conv2_block2_3_bn (None, 56, 56, 256)\n",
            "27 conv2_block2_add (None, 56, 56, 256)\n",
            "28 conv2_block2_out (None, 56, 56, 256)\n",
            "29 conv2_block3_1_conv (None, 56, 56, 64)\n",
            "30 conv2_block3_1_bn (None, 56, 56, 64)\n",
            "31 conv2_block3_1_relu (None, 56, 56, 64)\n",
            "32 conv2_block3_2_conv (None, 56, 56, 64)\n",
            "33 conv2_block3_2_bn (None, 56, 56, 64)\n",
            "34 conv2_block3_2_relu (None, 56, 56, 64)\n",
            "35 conv2_block3_3_conv (None, 56, 56, 256)\n",
            "36 conv2_block3_3_bn (None, 56, 56, 256)\n",
            "37 conv2_block3_add (None, 56, 56, 256)\n",
            "38 conv2_block3_out (None, 56, 56, 256)\n",
            "39 conv3_block1_1_conv (None, 28, 28, 128)\n",
            "40 conv3_block1_1_bn (None, 28, 28, 128)\n",
            "41 conv3_block1_1_relu (None, 28, 28, 128)\n",
            "42 conv3_block1_2_conv (None, 28, 28, 128)\n",
            "43 conv3_block1_2_bn (None, 28, 28, 128)\n",
            "44 conv3_block1_2_relu (None, 28, 28, 128)\n",
            "45 conv3_block1_0_conv (None, 28, 28, 512)\n",
            "46 conv3_block1_3_conv (None, 28, 28, 512)\n",
            "47 conv3_block1_0_bn (None, 28, 28, 512)\n",
            "48 conv3_block1_3_bn (None, 28, 28, 512)\n",
            "49 conv3_block1_add (None, 28, 28, 512)\n",
            "50 conv3_block1_out (None, 28, 28, 512)\n",
            "51 conv3_block2_1_conv (None, 28, 28, 128)\n",
            "52 conv3_block2_1_bn (None, 28, 28, 128)\n",
            "53 conv3_block2_1_relu (None, 28, 28, 128)\n",
            "54 conv3_block2_2_conv (None, 28, 28, 128)\n",
            "55 conv3_block2_2_bn (None, 28, 28, 128)\n",
            "56 conv3_block2_2_relu (None, 28, 28, 128)\n",
            "57 conv3_block2_3_conv (None, 28, 28, 512)\n",
            "58 conv3_block2_3_bn (None, 28, 28, 512)\n",
            "59 conv3_block2_add (None, 28, 28, 512)\n",
            "60 conv3_block2_out (None, 28, 28, 512)\n",
            "61 conv3_block3_1_conv (None, 28, 28, 128)\n",
            "62 conv3_block3_1_bn (None, 28, 28, 128)\n",
            "63 conv3_block3_1_relu (None, 28, 28, 128)\n",
            "64 conv3_block3_2_conv (None, 28, 28, 128)\n",
            "65 conv3_block3_2_bn (None, 28, 28, 128)\n",
            "66 conv3_block3_2_relu (None, 28, 28, 128)\n",
            "67 conv3_block3_3_conv (None, 28, 28, 512)\n",
            "68 conv3_block3_3_bn (None, 28, 28, 512)\n",
            "69 conv3_block3_add (None, 28, 28, 512)\n",
            "70 conv3_block3_out (None, 28, 28, 512)\n",
            "71 conv3_block4_1_conv (None, 28, 28, 128)\n",
            "72 conv3_block4_1_bn (None, 28, 28, 128)\n",
            "73 conv3_block4_1_relu (None, 28, 28, 128)\n",
            "74 conv3_block4_2_conv (None, 28, 28, 128)\n",
            "75 conv3_block4_2_bn (None, 28, 28, 128)\n",
            "76 conv3_block4_2_relu (None, 28, 28, 128)\n",
            "77 conv3_block4_3_conv (None, 28, 28, 512)\n",
            "78 conv3_block4_3_bn (None, 28, 28, 512)\n",
            "79 conv3_block4_add (None, 28, 28, 512)\n",
            "80 conv3_block4_out (None, 28, 28, 512)\n",
            "81 conv4_block1_1_conv (None, 14, 14, 256)\n",
            "82 conv4_block1_1_bn (None, 14, 14, 256)\n",
            "83 conv4_block1_1_relu (None, 14, 14, 256)\n",
            "84 conv4_block1_2_conv (None, 14, 14, 256)\n",
            "85 conv4_block1_2_bn (None, 14, 14, 256)\n",
            "86 conv4_block1_2_relu (None, 14, 14, 256)\n",
            "87 conv4_block1_0_conv (None, 14, 14, 1024)\n",
            "88 conv4_block1_3_conv (None, 14, 14, 1024)\n",
            "89 conv4_block1_0_bn (None, 14, 14, 1024)\n",
            "90 conv4_block1_3_bn (None, 14, 14, 1024)\n",
            "91 conv4_block1_add (None, 14, 14, 1024)\n",
            "92 conv4_block1_out (None, 14, 14, 1024)\n",
            "93 conv4_block2_1_conv (None, 14, 14, 256)\n",
            "94 conv4_block2_1_bn (None, 14, 14, 256)\n",
            "95 conv4_block2_1_relu (None, 14, 14, 256)\n",
            "96 conv4_block2_2_conv (None, 14, 14, 256)\n",
            "97 conv4_block2_2_bn (None, 14, 14, 256)\n",
            "98 conv4_block2_2_relu (None, 14, 14, 256)\n",
            "99 conv4_block2_3_conv (None, 14, 14, 1024)\n",
            "100 conv4_block2_3_bn (None, 14, 14, 1024)\n",
            "101 conv4_block2_add (None, 14, 14, 1024)\n",
            "102 conv4_block2_out (None, 14, 14, 1024)\n",
            "103 conv4_block3_1_conv (None, 14, 14, 256)\n",
            "104 conv4_block3_1_bn (None, 14, 14, 256)\n",
            "105 conv4_block3_1_relu (None, 14, 14, 256)\n",
            "106 conv4_block3_2_conv (None, 14, 14, 256)\n",
            "107 conv4_block3_2_bn (None, 14, 14, 256)\n",
            "108 conv4_block3_2_relu (None, 14, 14, 256)\n",
            "109 conv4_block3_3_conv (None, 14, 14, 1024)\n",
            "110 conv4_block3_3_bn (None, 14, 14, 1024)\n",
            "111 conv4_block3_add (None, 14, 14, 1024)\n",
            "112 conv4_block3_out (None, 14, 14, 1024)\n",
            "113 conv4_block4_1_conv (None, 14, 14, 256)\n",
            "114 conv4_block4_1_bn (None, 14, 14, 256)\n",
            "115 conv4_block4_1_relu (None, 14, 14, 256)\n",
            "116 conv4_block4_2_conv (None, 14, 14, 256)\n",
            "117 conv4_block4_2_bn (None, 14, 14, 256)\n",
            "118 conv4_block4_2_relu (None, 14, 14, 256)\n",
            "119 conv4_block4_3_conv (None, 14, 14, 1024)\n",
            "120 conv4_block4_3_bn (None, 14, 14, 1024)\n",
            "121 conv4_block4_add (None, 14, 14, 1024)\n",
            "122 conv4_block4_out (None, 14, 14, 1024)\n",
            "123 conv4_block5_1_conv (None, 14, 14, 256)\n",
            "124 conv4_block5_1_bn (None, 14, 14, 256)\n",
            "125 conv4_block5_1_relu (None, 14, 14, 256)\n",
            "126 conv4_block5_2_conv (None, 14, 14, 256)\n",
            "127 conv4_block5_2_bn (None, 14, 14, 256)\n",
            "128 conv4_block5_2_relu (None, 14, 14, 256)\n",
            "129 conv4_block5_3_conv (None, 14, 14, 1024)\n",
            "130 conv4_block5_3_bn (None, 14, 14, 1024)\n",
            "131 conv4_block5_add (None, 14, 14, 1024)\n",
            "132 conv4_block5_out (None, 14, 14, 1024)\n",
            "133 conv4_block6_1_conv (None, 14, 14, 256)\n",
            "134 conv4_block6_1_bn (None, 14, 14, 256)\n",
            "135 conv4_block6_1_relu (None, 14, 14, 256)\n",
            "136 conv4_block6_2_conv (None, 14, 14, 256)\n",
            "137 conv4_block6_2_bn (None, 14, 14, 256)\n",
            "138 conv4_block6_2_relu (None, 14, 14, 256)\n",
            "139 conv4_block6_3_conv (None, 14, 14, 1024)\n",
            "140 conv4_block6_3_bn (None, 14, 14, 1024)\n",
            "141 conv4_block6_add (None, 14, 14, 1024)\n",
            "142 conv4_block6_out (None, 14, 14, 1024)\n",
            "143 conv5_block1_1_conv (None, 7, 7, 512)\n",
            "144 conv5_block1_1_bn (None, 7, 7, 512)\n",
            "145 conv5_block1_1_relu (None, 7, 7, 512)\n",
            "146 conv5_block1_2_conv (None, 7, 7, 512)\n",
            "147 conv5_block1_2_bn (None, 7, 7, 512)\n",
            "148 conv5_block1_2_relu (None, 7, 7, 512)\n",
            "149 conv5_block1_0_conv (None, 7, 7, 2048)\n",
            "150 conv5_block1_3_conv (None, 7, 7, 2048)\n",
            "151 conv5_block1_0_bn (None, 7, 7, 2048)\n",
            "152 conv5_block1_3_bn (None, 7, 7, 2048)\n",
            "153 conv5_block1_add (None, 7, 7, 2048)\n",
            "154 conv5_block1_out (None, 7, 7, 2048)\n",
            "155 conv5_block2_1_conv (None, 7, 7, 512)\n",
            "156 conv5_block2_1_bn (None, 7, 7, 512)\n",
            "157 conv5_block2_1_relu (None, 7, 7, 512)\n",
            "158 conv5_block2_2_conv (None, 7, 7, 512)\n",
            "159 conv5_block2_2_bn (None, 7, 7, 512)\n",
            "160 conv5_block2_2_relu (None, 7, 7, 512)\n",
            "161 conv5_block2_3_conv (None, 7, 7, 2048)\n",
            "162 conv5_block2_3_bn (None, 7, 7, 2048)\n",
            "163 conv5_block2_add (None, 7, 7, 2048)\n",
            "164 conv5_block2_out (None, 7, 7, 2048)\n",
            "165 conv5_block3_1_conv (None, 7, 7, 512)\n",
            "166 conv5_block3_1_bn (None, 7, 7, 512)\n",
            "167 conv5_block3_1_relu (None, 7, 7, 512)\n",
            "168 conv5_block3_2_conv (None, 7, 7, 512)\n",
            "169 conv5_block3_2_bn (None, 7, 7, 512)\n",
            "170 conv5_block3_2_relu (None, 7, 7, 512)\n",
            "171 conv5_block3_3_conv (None, 7, 7, 2048)\n",
            "172 conv5_block3_3_bn (None, 7, 7, 2048)\n",
            "173 conv5_block3_add (None, 7, 7, 2048)\n",
            "174 conv5_block3_out (None, 7, 7, 2048)\n",
            "175 attention (None, 7, 7, 1024)\n",
            "176 global_average_pooling2d (None, 1024)\n",
            "177 dense (None, 1024)\n",
            "178 dropout (None, 1024)\n",
            "179 dense_1 (None, 512)\n",
            "180 dense_2 (None, 7)\n"
          ]
        }
      ],
      "source": [
        "#Train i-last layer\n",
        "# summarize feature map shapes\n",
        "for i in range(len(model.layers)):\n",
        "    layer = model.layers[i]\n",
        "    # summarize output shape\n",
        "    print(i, layer.name, layer.output.shape)"
      ]
    },
    {
      "cell_type": "code",
      "execution_count": null,
      "metadata": {
        "colab": {
          "base_uri": "https://localhost:8080/"
        },
        "id": "UA7Af2Y73FUv",
        "outputId": "f41b2828-ad8d-4cd3-ac77-8a04be113794"
      },
      "outputs": [
        {
          "name": "stdout",
          "output_type": "stream",
          "text": [
            "(5321, 2048)\n",
            "(5321, 7)\n",
            "(193, 2048)\n",
            "(193, 7)\n",
            "Counter train data:  Counter({5: 2011, 4: 1113, 2: 1099, 1: 514, 0: 327, 6: 142, 3: 115})\n",
            "Counter val data:  Counter({5: 123, 2: 22, 4: 21, 1: 15, 0: 8, 6: 3, 3: 1})\n"
          ]
        }
      ],
      "source": [
        "X_train = res50.predict(X_train)\n",
        "X_val = res50.predict(X_val)\n",
        "print(X_train.shape)\n",
        "print(y_train.shape)\n",
        "print(X_val.shape)\n",
        "print(y_val.shape)\n",
        "print('Counter train data: ', Counter(np.argmax(y_train, axis=1)))\n",
        "print('Counter val data: ', Counter(np.argmax(y_val, axis=1)))"
      ]
    },
    {
      "cell_type": "code",
      "execution_count": null,
      "metadata": {
        "colab": {
          "base_uri": "https://localhost:8080/"
        },
        "id": "krJiAb1m3QNf",
        "outputId": "fc0dfaf9-da03-4d79-c03d-584362e908f5"
      },
      "outputs": [
        {
          "name": "stdout",
          "output_type": "stream",
          "text": [
            "(14077, 2048)\n",
            "(14077, 7)\n",
            "(193, 2048)\n",
            "(193, 7)\n",
            "Counter train data:  Counter({5: 2011, 4: 2011, 2: 2011, 3: 2011, 0: 2011, 1: 2011, 6: 2011})\n",
            "Counter val data:  Counter({5: 123, 2: 22, 4: 21, 1: 15, 0: 8, 6: 3, 3: 1})\n"
          ]
        }
      ],
      "source": [
        "X_train, y_train = SMOTE_Data2(X_train, y_train, True)\n",
        "print(X_train.shape)\n",
        "print(y_train.shape)\n",
        "print(X_val.shape)\n",
        "print(y_val.shape)\n",
        "print('Counter train data: ', Counter(np.argmax(y_train, axis=1)))\n",
        "print('Counter val data: ', Counter(np.argmax(y_val, axis=1)))"
      ]
    },
    {
      "cell_type": "markdown",
      "metadata": {
        "id": "5v7sLC2svMuJ"
      },
      "source": [
        "# Main"
      ]
    },
    {
      "cell_type": "code",
      "execution_count": 4,
      "metadata": {
        "id": "qge6cnxQPnH6",
        "colab": {
          "base_uri": "https://localhost:8080/"
        },
        "outputId": "18b19e21-db18-4962-be1e-30f24f46bc88"
      },
      "outputs": [
        {
          "output_type": "stream",
          "name": "stdout",
          "text": [
            "(5321, 224, 224, 3)\n",
            "(5321, 7)\n",
            "(193, 224, 224, 3)\n",
            "(193, 7)\n",
            "Counter train data:  Counter({5: 2011, 4: 1113, 2: 1099, 1: 514, 0: 327, 6: 142, 3: 115})\n",
            "Counter val data:  Counter({5: 123, 2: 22, 4: 21, 1: 15, 0: 8, 6: 3, 3: 1})\n"
          ]
        }
      ],
      "source": [
        "path = '/content/drive/MyDrive/PHD/Datasets/isic2018/'\n",
        "df1 = pd.read_pickle(path+\"isic2018_train.pkl\")\n",
        "X_train = df1.loc[:, df1.columns != 'y_train'].to_numpy()\n",
        "X_train = X_train.reshape(-1,224,224,3)\n",
        "y_train = df1.loc[:, df1.columns == 'y_train'].to_numpy()\n",
        "y_train = to_categorical(y_train)\n",
        "\n",
        "df1 = pd.read_pickle(path+\"isic2018_val.pkl\")\n",
        "X_val = df1.loc[:, df1.columns != 'y_val'].to_numpy()\n",
        "X_val = X_val.reshape(-1,224,224,3)\n",
        "y_val = df1.loc[:, df1.columns == 'y_val'].to_numpy()\n",
        "y_val = to_categorical(y_val)\n",
        "\n",
        "print(X_train.shape)\n",
        "print(y_train.shape)\n",
        "print(X_val.shape)\n",
        "print(y_val.shape)\n",
        "print('Counter train data: ', Counter(np.argmax(y_train, axis=1)))\n",
        "print('Counter val data: ', Counter(np.argmax(y_val, axis=1)))"
      ]
    },
    {
      "cell_type": "code",
      "execution_count": 5,
      "metadata": {
        "colab": {
          "base_uri": "https://localhost:8080/"
        },
        "id": "xArGWuciBt_-",
        "outputId": "b2390e6f-bf4b-4436-92de-4675f28ebe7a"
      },
      "outputs": [
        {
          "output_type": "stream",
          "name": "stdout",
          "text": [
            "(14077, 224, 224, 3)\n",
            "(14077, 7)\n",
            "(193, 224, 224, 3)\n",
            "(193, 7)\n",
            "Counter train data:  Counter({5: 2011, 4: 2011, 2: 2011, 3: 2011, 0: 2011, 1: 2011, 6: 2011})\n",
            "Counter val data:  Counter({5: 123, 2: 22, 4: 21, 1: 15, 0: 8, 6: 3, 3: 1})\n"
          ]
        }
      ],
      "source": [
        "X_train, y_train = SMOTE_Data(X_train, y_train, True)\n",
        "print(X_train.shape)\n",
        "print(y_train.shape)\n",
        "print(X_val.shape)\n",
        "print(y_val.shape)\n",
        "print('Counter train data: ', Counter(np.argmax(y_train, axis=1)))\n",
        "print('Counter val data: ', Counter(np.argmax(y_val, axis=1)))"
      ]
    },
    {
      "cell_type": "code",
      "execution_count": null,
      "metadata": {
        "id": "V7Z_nccu6QjB"
      },
      "outputs": [],
      "source": [
        "#path = '/content/drive/MyDrive/PHD/Datasets/isic2018/'\n",
        "#df1 = pd.DataFrame(X_train.reshape(X_train.shape[0],-1))\n",
        "#df1['y_train'] = np.argmax(y_train, axis=1).tolist()\n",
        "#df2 = pd.DataFrame(X_val.reshape(X_val.shape[0],-1))\n",
        "#df2['y_val'] = np.argmax(y_val, axis=1).tolist()\n",
        "#df1.to_pickle(path+\"isic2018_train.pkl\")\n",
        "#df2.to_pickle(path+\"isic2018_val.pkl\")"
      ]
    },
    {
      "cell_type": "code",
      "execution_count": null,
      "metadata": {
        "colab": {
          "base_uri": "https://localhost:8080/"
        },
        "id": "nAMBgWqIsAAB",
        "outputId": "1b589db4-9f88-498a-bb96-97e7db05f1a2"
      },
      "outputs": [
        {
          "name": "stdout",
          "output_type": "stream",
          "text": [
            "(5321, 224, 224, 3)\n",
            "(5321, 7)\n",
            "(193, 224, 224, 3)\n",
            "(193, 7)\n",
            "Counter train data:  Counter({5: 2011, 4: 1113, 2: 1099, 1: 514, 0: 327, 6: 142, 3: 115})\n",
            "Counter val data:  Counter({5: 123, 2: 22, 4: 21, 1: 15, 0: 8, 6: 3, 3: 1})\n"
          ]
        }
      ],
      "source": [
        "print(X_train.shape)\n",
        "print(y_train.shape)\n",
        "print(X_val.shape)\n",
        "print(y_val.shape)\n",
        "print('Counter train data: ', Counter(np.argmax(y_train, axis=1)))\n",
        "print('Counter val data: ', Counter(np.argmax(y_val, axis=1)))"
      ]
    },
    {
      "cell_type": "code",
      "execution_count": 7,
      "metadata": {
        "colab": {
          "base_uri": "https://localhost:8080/",
          "height": 1000
        },
        "id": "vIygrW81Ln4z",
        "outputId": "17dc99ec-5313-4501-b425-451976858e90"
      },
      "outputs": [
        {
          "output_type": "stream",
          "name": "stdout",
          "text": [
            "Downloading data from https://storage.googleapis.com/tensorflow/keras-applications/resnet/resnet50_weights_tf_dim_ordering_tf_kernels_notop.h5\n",
            "94773248/94765736 [==============================] - 2s 0us/step\n",
            "94781440/94765736 [==============================] - 2s 0us/step\n",
            "Epoch 1/10\n",
            "219/219 [==============================] - ETA: 0s - loss: 1.6096 - accuracy: 0.3960 - balanced_acc: 0.3974\n",
            "Epoch 1: val_balanced_acc improved from -inf to 0.39011, saving model to /content/drive/MyDrive/PHD/Model/best_model_attention.h5\n",
            "219/219 [==============================] - 63s 221ms/step - loss: 1.6096 - accuracy: 0.3960 - balanced_acc: 0.3974 - val_loss: 1.3388 - val_accuracy: 0.5440 - val_balanced_acc: 0.3901 - lr: 0.0010\n",
            "Epoch 2/10\n",
            "219/219 [==============================] - ETA: 0s - loss: 1.2602 - accuracy: 0.5527 - balanced_acc: 0.5504\n",
            "Epoch 2: val_balanced_acc did not improve from 0.39011\n",
            "219/219 [==============================] - 45s 201ms/step - loss: 1.2602 - accuracy: 0.5527 - balanced_acc: 0.5504 - val_loss: 1.2300 - val_accuracy: 0.5389 - val_balanced_acc: 0.2735 - lr: 0.0010\n",
            "Epoch 3/10\n",
            "219/219 [==============================] - ETA: 0s - loss: 1.1271 - accuracy: 0.5967 - balanced_acc: 0.5967\n",
            "Epoch 3: val_balanced_acc did not improve from 0.39011\n",
            "219/219 [==============================] - 45s 204ms/step - loss: 1.1271 - accuracy: 0.5967 - balanced_acc: 0.5967 - val_loss: 1.1231 - val_accuracy: 0.5648 - val_balanced_acc: 0.2660 - lr: 0.0010\n",
            "Epoch 4/10\n",
            "219/219 [==============================] - ETA: 0s - loss: 1.0339 - accuracy: 0.6259 - balanced_acc: 0.6270\n",
            "Epoch 4: val_balanced_acc did not improve from 0.39011\n",
            "219/219 [==============================] - 44s 203ms/step - loss: 1.0339 - accuracy: 0.6259 - balanced_acc: 0.6270 - val_loss: 0.9755 - val_accuracy: 0.5803 - val_balanced_acc: 0.2511 - lr: 0.0010\n",
            "Epoch 5/10\n",
            "219/219 [==============================] - ETA: 0s - loss: 0.9795 - accuracy: 0.6463 - balanced_acc: 0.6484\n",
            "Epoch 5: val_balanced_acc did not improve from 0.39011\n",
            "219/219 [==============================] - 44s 203ms/step - loss: 0.9795 - accuracy: 0.6463 - balanced_acc: 0.6484 - val_loss: 0.9684 - val_accuracy: 0.6010 - val_balanced_acc: 0.2671 - lr: 0.0010\n",
            "Epoch 6/10\n",
            "219/219 [==============================] - ETA: 0s - loss: 0.9407 - accuracy: 0.6590 - balanced_acc: 0.6601\n",
            "Epoch 6: val_balanced_acc did not improve from 0.39011\n",
            "219/219 [==============================] - 44s 203ms/step - loss: 0.9407 - accuracy: 0.6590 - balanced_acc: 0.6601 - val_loss: 0.9588 - val_accuracy: 0.6321 - val_balanced_acc: 0.3058 - lr: 0.0010\n",
            "Epoch 7/10\n",
            "219/219 [==============================] - ETA: 0s - loss: 0.9064 - accuracy: 0.6710 - balanced_acc: 0.6733\n",
            "Epoch 7: val_balanced_acc did not improve from 0.39011\n",
            "219/219 [==============================] - 44s 202ms/step - loss: 0.9064 - accuracy: 0.6710 - balanced_acc: 0.6733 - val_loss: 0.8863 - val_accuracy: 0.6580 - val_balanced_acc: 0.2971 - lr: 0.0010\n",
            "Epoch 8/10\n",
            "219/219 [==============================] - ETA: 0s - loss: 0.8754 - accuracy: 0.6840 - balanced_acc: 0.6857\n",
            "Epoch 8: val_balanced_acc did not improve from 0.39011\n",
            "219/219 [==============================] - 44s 202ms/step - loss: 0.8754 - accuracy: 0.6840 - balanced_acc: 0.6857 - val_loss: 0.9080 - val_accuracy: 0.6477 - val_balanced_acc: 0.3112 - lr: 0.0010\n",
            "Epoch 9/10\n",
            "219/219 [==============================] - ETA: 0s - loss: 0.8452 - accuracy: 0.6888 - balanced_acc: 0.6868\n",
            "Epoch 9: val_balanced_acc did not improve from 0.39011\n",
            "219/219 [==============================] - 44s 203ms/step - loss: 0.8452 - accuracy: 0.6888 - balanced_acc: 0.6868 - val_loss: 0.8870 - val_accuracy: 0.6580 - val_balanced_acc: 0.3688 - lr: 0.0010\n",
            "Epoch 10/10\n",
            "219/219 [==============================] - ETA: 0s - loss: 0.8268 - accuracy: 0.6981 - balanced_acc: 0.6966\n",
            "Epoch 10: val_balanced_acc did not improve from 0.39011\n",
            "219/219 [==============================] - 44s 203ms/step - loss: 0.8268 - accuracy: 0.6981 - balanced_acc: 0.6966 - val_loss: 0.8704 - val_accuracy: 0.6943 - val_balanced_acc: 0.3634 - lr: 0.0010\n"
          ]
        },
        {
          "output_type": "display_data",
          "data": {
            "text/plain": [
              "<Figure size 432x288 with 2 Axes>"
            ],
            "image/png": "[encoded data removed]"
          },
          "metadata": {
            "needs_background": "light"
          }
        }
      ],
      "source": [
        "# define model\n",
        "model = define_base_model('resnet50')\n",
        "#model.summary()\n",
        "hst = model.fit(X_train, y_train, epochs=EPOCHS, batch_size=BATCH_SIZE, validation_data=(X_val, y_val), verbose=1,\n",
        "                    steps_per_epoch=X_train.shape[0] // BATCH_SIZE, \n",
        "                    callbacks=[learning_rate_reduction,early_stopping_monitor, mc])\n",
        "# learning curves\n",
        "summarize_diagnostics(hst)"
      ]
    },
    {
      "cell_type": "code",
      "execution_count": 8,
      "metadata": {
        "colab": {
          "base_uri": "https://localhost:8080/",
          "height": 295
        },
        "id": "vXnW3lmCgln3",
        "outputId": "6d985ecc-b5aa-4f3d-b7ff-818886a01096"
      },
      "outputs": [
        {
          "output_type": "display_data",
          "data": {
            "text/plain": [
              "<Figure size 432x288 with 1 Axes>"
            ],
            "image/png": "[encoded data removed]"
          },
          "metadata": {
            "needs_background": "light"
          }
        }
      ],
      "source": [
        "# summarize history for accuracy\n",
        "plt.plot(hst.history['accuracy'])\n",
        "plt.plot(hst.history['balanced_acc'])\n",
        "plt.plot(hst.history['val_accuracy'])\n",
        "plt.plot(hst.history['val_balanced_acc'])\n",
        "plt.title('Model accuracy')\n",
        "plt.ylabel('Performance')\n",
        "plt.xlabel('epoch')\n",
        "plt.legend(['train accuracy', 'train balanced acc.', 'val. accuracy', 'val. balanced acc.'], loc='lower right')\n",
        "plt.show()"
      ]
    },
    {
      "cell_type": "code",
      "execution_count": null,
      "metadata": {
        "id": "rwwLiXUSG0IZ"
      },
      "outputs": [],
      "source": [
        "#Training\n",
        "#hst = model.fit(train_data_batches,\n",
        "#                    epochs = EPOCHS, validation_data = valid_data_batches,      \n",
        "                    #steps_per_epoch=X_train.shape[0] // BATCH_SIZE, \n",
        "#                    callbacks=[learning_rate_reduction,early_stopping_monitor, mc])\n"
      ]
    },
    {
      "cell_type": "markdown",
      "metadata": {
        "id": "icgjmi-4UIT-"
      },
      "source": [
        "#Evaluate"
      ]
    },
    {
      "cell_type": "code",
      "execution_count": 9,
      "metadata": {
        "id": "SPz8NH1Oylv9"
      },
      "outputs": [],
      "source": [
        "#save last model\n",
        "model.save(last_model_fpath)"
      ]
    },
    {
      "cell_type": "code",
      "execution_count": 10,
      "metadata": {
        "colab": {
          "base_uri": "https://localhost:8080/"
        },
        "id": "lS3ewyxO_anU",
        "outputId": "82942bb9-7e63-4cab-9a9e-6d930a670916"
      },
      "outputs": [
        {
          "output_type": "stream",
          "name": "stdout",
          "text": [
            "accuracy on training 0.736662641187753\n",
            "balanced accuracy on training 0.7366626411877532\n",
            "accuracy on validation 0.694300518134715\n",
            "balanced accuracy on validation 0.6064271384828875\n",
            "Score on val data:  (0.44305662097537085, 0.6064271384828875, 0.4772186147186147, None)\n"
          ]
        }
      ],
      "source": [
        "last_model = load_model(last_model_fpath, custom_objects={'balanced_acc' : balanced_acc})\n",
        "y_train_pred = last_model.predict(X_train)\n",
        "y_val_pred = last_model.predict(X_val)\n",
        "\n",
        "#print('accuracy on training',accuracy_score(np.argmax(y_train, axis=1), np.argmax(y_train_pred, axis=1)))\n",
        "print('accuracy on training',accuracy_score(np.argmax(y_train, axis=1), np.argmax(y_train_pred, axis=1)))\n",
        "print('balanced accuracy on training',balanced_accuracy_score(np.argmax(y_train, axis=1), np.argmax(y_train_pred, axis=1)))\n",
        "print('accuracy on validation',accuracy_score(np.argmax(y_val, axis=1), np.argmax(y_val_pred, axis=1)))\n",
        "print('balanced accuracy on validation',balanced_accuracy_score(np.argmax(y_val, axis=1), np.argmax(y_val_pred, axis=1)))\n",
        "print('Score on val data: ',precision_recall_fscore_support(np.argmax(y_val, axis=1), np.argmax(y_val_pred, axis=1), average='macro'))"
      ]
    },
    {
      "cell_type": "code",
      "execution_count": 6,
      "metadata": {
        "id": "W3IyWjdGG4Xq",
        "colab": {
          "base_uri": "https://localhost:8080/"
        },
        "outputId": "4e856b28-9d3b-423a-a734-b541cb2b7f65"
      },
      "outputs": [
        {
          "output_type": "stream",
          "name": "stdout",
          "text": [
            "accuracy on training 0.5749804645876252\n",
            "balanced accuracy on training 0.5749804645876252\n",
            "accuracy on validation 0.5440414507772021\n",
            "balanced accuracy on validation 0.394761075161772\n",
            "Score on val data:  (0.3283800771770697, 0.394761075161772, 0.3402246748074441, None)\n"
          ]
        }
      ],
      "source": [
        "best_model = load_model(best_model_fpath, custom_objects={'balanced_acc' : balanced_acc})\n",
        "y_train_pred = best_model.predict(X_train)\n",
        "y_val_pred = best_model.predict(X_val)\n",
        "\n",
        "print('accuracy on training',accuracy_score(np.argmax(y_train, axis=1), np.argmax(y_train_pred, axis=1)))\n",
        "print('balanced accuracy on training',balanced_accuracy_score(np.argmax(y_train, axis=1), np.argmax(y_train_pred, axis=1)))\n",
        "print('accuracy on validation',accuracy_score(np.argmax(y_val, axis=1), np.argmax(y_val_pred, axis=1)))\n",
        "print('balanced accuracy on validation',balanced_accuracy_score(np.argmax(y_val, axis=1), np.argmax(y_val_pred, axis=1)))\n",
        "print('Score on val data: ',precision_recall_fscore_support(np.argmax(y_val, axis=1), np.argmax(y_val_pred, axis=1), average='macro'))"
      ]
    },
    {
      "cell_type": "markdown",
      "metadata": {
        "id": "iDRWiTnO0MGh"
      },
      "source": [
        "#Cut-off"
      ]
    },
    {
      "cell_type": "code",
      "execution_count": null,
      "metadata": {
        "colab": {
          "background_save": true
        },
        "id": "tGnCoIdLyDHS"
      },
      "outputs": [],
      "source": [
        "df_val_pred = pd.DataFrame(y_val_pred, columns = ['AKIEC', 'BCC', 'BKL', 'DF', 'MEL', 'NV', 'VASC'])"
      ]
    },
    {
      "cell_type": "code",
      "execution_count": null,
      "metadata": {
        "colab": {
          "background_save": true
        },
        "id": "QdyCbloQyWTC",
        "outputId": "98b25424-1f26-4aa8-cbc6-ffda3f131cde"
      },
      "outputs": [
        {
          "data": {
            "text/html": [
              "\n",
              "  <div id=\"df-f3598c48-84a7-49d7-88ba-faa89fa47ceb\">\n",
              "    <div class=\"colab-df-container\">\n",
              "      <div>\n",
              "<style scoped>\n",
              "    .dataframe tbody tr th:only-of-type {\n",
              "        vertical-align: middle;\n",
              "    }\n",
              "\n",
              "    .dataframe tbody tr th {\n",
              "        vertical-align: top;\n",
              "    }\n",
              "\n",
              "    .dataframe thead th {\n",
              "        text-align: right;\n",
              "    }\n",
              "</style>\n",
              "<table border=\"1\" class=\"dataframe\">\n",
              "  <thead>\n",
              "    <tr style=\"text-align: right;\">\n",
              "      <th></th>\n",
              "      <th>AKIEC</th>\n",
              "      <th>BCC</th>\n",
              "      <th>BKL</th>\n",
              "      <th>DF</th>\n",
              "      <th>MEL</th>\n",
              "      <th>NV</th>\n",
              "      <th>VASC</th>\n",
              "      <th>0.0</th>\n",
              "      <th>0.025</th>\n",
              "      <th>0.05</th>\n",
              "      <th>0.075</th>\n",
              "      <th>0.1</th>\n",
              "      <th>0.125</th>\n",
              "      <th>0.15</th>\n",
              "      <th>0.175</th>\n",
              "      <th>0.2</th>\n",
              "      <th>0.225</th>\n",
              "      <th>0.25</th>\n",
              "    </tr>\n",
              "  </thead>\n",
              "  <tbody>\n",
              "    <tr>\n",
              "      <th>0</th>\n",
              "      <td>0.000005</td>\n",
              "      <td>8.485875e-01</td>\n",
              "      <td>0.010974</td>\n",
              "      <td>1.638218e-02</td>\n",
              "      <td>0.067681</td>\n",
              "      <td>0.053216</td>\n",
              "      <td>3.155297e-03</td>\n",
              "      <td>1</td>\n",
              "      <td>1</td>\n",
              "      <td>1</td>\n",
              "      <td>0</td>\n",
              "      <td>0</td>\n",
              "      <td>0</td>\n",
              "      <td>0</td>\n",
              "      <td>0</td>\n",
              "      <td>0</td>\n",
              "      <td>0</td>\n",
              "      <td>0</td>\n",
              "    </tr>\n",
              "    <tr>\n",
              "      <th>1</th>\n",
              "      <td>0.000001</td>\n",
              "      <td>1.249555e-06</td>\n",
              "      <td>0.003009</td>\n",
              "      <td>4.066068e-05</td>\n",
              "      <td>0.003696</td>\n",
              "      <td>0.993216</td>\n",
              "      <td>3.473017e-05</td>\n",
              "      <td>1</td>\n",
              "      <td>0</td>\n",
              "      <td>0</td>\n",
              "      <td>0</td>\n",
              "      <td>0</td>\n",
              "      <td>0</td>\n",
              "      <td>0</td>\n",
              "      <td>0</td>\n",
              "      <td>0</td>\n",
              "      <td>0</td>\n",
              "      <td>0</td>\n",
              "    </tr>\n",
              "    <tr>\n",
              "      <th>2</th>\n",
              "      <td>0.001005</td>\n",
              "      <td>9.988480e-01</td>\n",
              "      <td>0.000061</td>\n",
              "      <td>3.781584e-06</td>\n",
              "      <td>0.000065</td>\n",
              "      <td>0.000017</td>\n",
              "      <td>4.135021e-07</td>\n",
              "      <td>1</td>\n",
              "      <td>0</td>\n",
              "      <td>0</td>\n",
              "      <td>0</td>\n",
              "      <td>0</td>\n",
              "      <td>0</td>\n",
              "      <td>0</td>\n",
              "      <td>0</td>\n",
              "      <td>0</td>\n",
              "      <td>0</td>\n",
              "      <td>0</td>\n",
              "    </tr>\n",
              "    <tr>\n",
              "      <th>3</th>\n",
              "      <td>0.000001</td>\n",
              "      <td>6.159509e-06</td>\n",
              "      <td>0.013044</td>\n",
              "      <td>3.545333e-05</td>\n",
              "      <td>0.012993</td>\n",
              "      <td>0.968286</td>\n",
              "      <td>5.633445e-03</td>\n",
              "      <td>1</td>\n",
              "      <td>0</td>\n",
              "      <td>0</td>\n",
              "      <td>0</td>\n",
              "      <td>0</td>\n",
              "      <td>0</td>\n",
              "      <td>0</td>\n",
              "      <td>0</td>\n",
              "      <td>0</td>\n",
              "      <td>0</td>\n",
              "      <td>0</td>\n",
              "    </tr>\n",
              "    <tr>\n",
              "      <th>4</th>\n",
              "      <td>0.000058</td>\n",
              "      <td>2.258765e-07</td>\n",
              "      <td>0.000133</td>\n",
              "      <td>5.973683e-07</td>\n",
              "      <td>0.003996</td>\n",
              "      <td>0.995811</td>\n",
              "      <td>1.017195e-06</td>\n",
              "      <td>1</td>\n",
              "      <td>0</td>\n",
              "      <td>0</td>\n",
              "      <td>0</td>\n",
              "      <td>0</td>\n",
              "      <td>0</td>\n",
              "      <td>0</td>\n",
              "      <td>0</td>\n",
              "      <td>0</td>\n",
              "      <td>0</td>\n",
              "      <td>0</td>\n",
              "    </tr>\n",
              "  </tbody>\n",
              "</table>\n",
              "</div>\n",
              "      <button class=\"colab-df-convert\" onclick=\"convertToInteractive('df-f3598c48-84a7-49d7-88ba-faa89fa47ceb')\"\n",
              "              title=\"Convert this dataframe to an interactive table.\"\n",
              "              style=\"display:none;\">\n",
              "        \n",
              "  <svg xmlns=\"http://www.w3.org/2000/svg\" height=\"24px\"viewBox=\"0 0 24 24\"\n",
              "       width=\"24px\">\n",
              "    <path d=\"M0 0h24v24H0V0z\" fill=\"none\"/>\n",
              "    <path d=\"M18.56 5.44l.94 2.06.94-2.06 2.06-.94-2.06-.94-.94-2.06-.94 2.06-2.06.94zm-11 1L8.5 8.5l.94-2.06 2.06-.94-2.06-.94L8.5 2.5l-.94 2.06-2.06.94zm10 10l.94 2.06.94-2.06 2.06-.94-2.06-.94-.94-2.06-.94 2.06-2.06.94z\"/><path d=\"M17.41 7.96l-1.37-1.37c-.4-.4-.92-.59-1.43-.59-.52 0-1.04.2-1.43.59L10.3 9.45l-7.72 7.72c-.78.78-.78 2.05 0 2.83L4 21.41c.39.39.9.59 1.41.59.51 0 1.02-.2 1.41-.59l7.78-7.78 2.81-2.81c.8-.78.8-2.07 0-2.86zM5.41 20L4 18.59l7.72-7.72 1.47 1.35L5.41 20z\"/>\n",
              "  </svg>\n",
              "      </button>\n",
              "      \n",
              "  <style>\n",
              "    .colab-df-container {\n",
              "      display:flex;\n",
              "      flex-wrap:wrap;\n",
              "      gap: 12px;\n",
              "    }\n",
              "\n",
              "    .colab-df-convert {\n",
              "      background-color: #E8F0FE;\n",
              "      border: none;\n",
              "      border-radius: 50%;\n",
              "      cursor: pointer;\n",
              "      display: none;\n",
              "      fill: #1967D2;\n",
              "      height: 32px;\n",
              "      padding: 0 0 0 0;\n",
              "      width: 32px;\n",
              "    }\n",
              "\n",
              "    .colab-df-convert:hover {\n",
              "      background-color: #E2EBFA;\n",
              "      box-shadow: 0px 1px 2px rgba(60, 64, 67, 0.3), 0px 1px 3px 1px rgba(60, 64, 67, 0.15);\n",
              "      fill: #174EA6;\n",
              "    }\n",
              "\n",
              "    [theme=dark] .colab-df-convert {\n",
              "      background-color: #3B4455;\n",
              "      fill: #D2E3FC;\n",
              "    }\n",
              "\n",
              "    [theme=dark] .colab-df-convert:hover {\n",
              "      background-color: #434B5C;\n",
              "      box-shadow: 0px 1px 3px 1px rgba(0, 0, 0, 0.15);\n",
              "      filter: drop-shadow(0px 1px 2px rgba(0, 0, 0, 0.3));\n",
              "      fill: #FFFFFF;\n",
              "    }\n",
              "  </style>\n",
              "\n",
              "      <script>\n",
              "        const buttonEl =\n",
              "          document.querySelector('#df-f3598c48-84a7-49d7-88ba-faa89fa47ceb button.colab-df-convert');\n",
              "        buttonEl.style.display =\n",
              "          google.colab.kernel.accessAllowed ? 'block' : 'none';\n",
              "\n",
              "        async function convertToInteractive(key) {\n",
              "          const element = document.querySelector('#df-f3598c48-84a7-49d7-88ba-faa89fa47ceb');\n",
              "          const dataTable =\n",
              "            await google.colab.kernel.invokeFunction('convertToInteractive',\n",
              "                                                     [key], {});\n",
              "          if (!dataTable) return;\n",
              "\n",
              "          const docLinkHtml = 'Like what you see? Visit the ' +\n",
              "            '<a target=\"_blank\" href=https://colab.research.google.com/notebooks/data_table.ipynb>data table notebook</a>'\n",
              "            + ' to learn more about interactive tables.';\n",
              "          element.innerHTML = '';\n",
              "          dataTable['output_type'] = 'display_data';\n",
              "          await google.colab.output.renderOutput(dataTable, element);\n",
              "          const docLink = document.createElement('div');\n",
              "          docLink.innerHTML = docLinkHtml;\n",
              "          element.appendChild(docLink);\n",
              "        }\n",
              "      </script>\n",
              "    </div>\n",
              "  </div>\n",
              "  "
            ],
            "text/plain": [
              "      AKIEC           BCC       BKL            DF       MEL        NV  \\\n",
              "0  0.000005  8.485875e-01  0.010974  1.638218e-02  0.067681  0.053216   \n",
              "1  0.000001  1.249555e-06  0.003009  4.066068e-05  0.003696  0.993216   \n",
              "2  0.001005  9.988480e-01  0.000061  3.781584e-06  0.000065  0.000017   \n",
              "3  0.000001  6.159509e-06  0.013044  3.545333e-05  0.012993  0.968286   \n",
              "4  0.000058  2.258765e-07  0.000133  5.973683e-07  0.003996  0.995811   \n",
              "\n",
              "           VASC  0.0  0.025  0.05  0.075  0.1  0.125  0.15  0.175  0.2  0.225  \\\n",
              "0  3.155297e-03    1      1     1      0    0      0     0      0    0      0   \n",
              "1  3.473017e-05    1      0     0      0    0      0     0      0    0      0   \n",
              "2  4.135021e-07    1      0     0      0    0      0     0      0    0      0   \n",
              "3  5.633445e-03    1      0     0      0    0      0     0      0    0      0   \n",
              "4  1.017195e-06    1      0     0      0    0      0     0      0    0      0   \n",
              "\n",
              "   0.25  \n",
              "0     0  \n",
              "1     0  \n",
              "2     0  \n",
              "3     0  \n",
              "4     0  "
            ]
          },
          "execution_count": 11,
          "metadata": {},
          "output_type": "execute_result"
        }
      ],
      "source": [
        "numbers = [float(x)/40 for x in range(11)]\n",
        "for i in numbers:\n",
        "    df_val_pred[i]= df_val_pred.MEL.map(lambda x: 1 if x > i else 0)\n",
        "df_val_pred.head()"
      ]
    },
    {
      "cell_type": "code",
      "execution_count": null,
      "metadata": {
        "colab": {
          "background_save": true
        },
        "id": "G4SQsRx73kgk"
      },
      "outputs": [],
      "source": [
        "y_val_true= [1 if x == 4 else 0 for x in np.argmax(y_val, axis=1)]"
      ]
    },
    {
      "cell_type": "code",
      "execution_count": null,
      "metadata": {
        "colab": {
          "background_save": true
        },
        "id": "QcUISWFi0J05"
      },
      "outputs": [],
      "source": [
        "#num = [0.0,0.05,0.1,0.15,0.2,0.25,0.3,0.35,0.4,0.45,0.5]\n",
        "cutoff_df = pd.DataFrame( columns = ['Probability','Accuracy','Sensitivity','Specificity'])\n",
        "for i in numbers:\n",
        "    cm1 = confusion_matrix(y_val_true, df_val_pred[i])\n",
        "    total1=sum(sum(cm1))\n",
        "    Accuracy = (cm1[0,0]+cm1[1,1])/total1\n",
        "    Specificity = cm1[0,0]/(cm1[0,0]+cm1[0,1])\n",
        "    Sensitivity = cm1[1,1]/(cm1[1,0]+cm1[1,1])\n",
        "    cutoff_df.loc[i] =[ i ,Accuracy,Sensitivity,Specificity]"
      ]
    },
    {
      "cell_type": "code",
      "execution_count": null,
      "metadata": {
        "colab": {
          "background_save": true
        },
        "id": "W31LSzov1tCt",
        "outputId": "270f4f0b-e6bf-412c-c44d-0cb05618f8bd"
      },
      "outputs": [
        {
          "data": {
            "image/png": "[encoded data removed]",
            "text/plain": [
              "<Figure size 432x288 with 1 Axes>"
            ]
          },
          "metadata": {},
          "output_type": "display_data"
        }
      ],
      "source": [
        "cutoff_df[['Accuracy','Sensitivity','Specificity']].plot()\n",
        "\n",
        "plt.show()"
      ]
    },
    {
      "cell_type": "code",
      "execution_count": null,
      "metadata": {
        "colab": {
          "background_save": true
        },
        "id": "P6CIKT94Jqye"
      },
      "outputs": [],
      "source": [
        "i = 0.025\n",
        "cm1 = confusion_matrix(y_val_true, df_val_pred[i])\n",
        "total1=sum(sum(cm1))\n",
        "Accuracy = (cm1[0,0]+cm1[1,1])/total1\n",
        "Specificity = cm1[0,0]/(cm1[0,0]+cm1[0,1])\n",
        "Sensitivity = cm1[1,1]/(cm1[1,0]+cm1[1,1])"
      ]
    },
    {
      "cell_type": "code",
      "execution_count": null,
      "metadata": {
        "colab": {
          "background_save": true
        },
        "id": "3U2tkFebL_VC",
        "outputId": "1606c323-a07e-4be0-e37b-b047631a56d0"
      },
      "outputs": [
        {
          "name": "stdout",
          "output_type": "stream",
          "text": [
            "Accuracy:  0.6683937823834197\n",
            "Sensitivity:  0.9523809523809523\n",
            "Specificity:  0.6337209302325582\n"
          ]
        }
      ],
      "source": [
        "print('Accuracy: ', Accuracy)\n",
        "print('Sensitivity: ', Sensitivity)\n",
        "print('Specificity: ', Specificity)"
      ]
    },
    {
      "cell_type": "markdown",
      "metadata": {
        "id": "eaK4zbtoaAaC"
      },
      "source": [
        "#Confusion Metric on Validation Set"
      ]
    },
    {
      "cell_type": "code",
      "execution_count": null,
      "metadata": {
        "colab": {
          "background_save": true
        },
        "id": "YkPOFLehOmFg"
      },
      "outputs": [],
      "source": [
        "#change melanoma flag back to 4\n",
        "df_val_pred[df_val_pred[i] == 1] = 4\n",
        "#decode one-hot y_val_pred while use cut-off melanoma data\n",
        "condition = df_val_pred[i] == 4\n",
        "y_val_pred2 = np.where(condition, df_val_pred[i], np.argmax(y_val_pred, axis=1))"
      ]
    },
    {
      "cell_type": "code",
      "execution_count": null,
      "metadata": {
        "colab": {
          "background_save": true
        },
        "id": "LOVl6dWlTDLo",
        "outputId": "4716fae5-0943-4d54-dedb-7e4003de18ad"
      },
      "outputs": [
        {
          "name": "stdout",
          "output_type": "stream",
          "text": [
            "Accuracy:  0.6010362694300518\n",
            "Balanced accuracy:  0.5054425539617177\n"
          ]
        }
      ],
      "source": [
        "print('Accuracy: ',accuracy_score(np.argmax(y_val, axis=1), y_val_pred2))\n",
        "print('Balanced accuracy: ',balanced_accuracy_score(np.argmax(y_val, axis=1), y_val_pred2))"
      ]
    },
    {
      "cell_type": "code",
      "execution_count": null,
      "metadata": {
        "colab": {
          "background_save": true
        },
        "id": "mqvYutTKRhR_",
        "outputId": "ae431ed5-4207-4e68-b10a-00de5c77723b"
      },
      "outputs": [
        {
          "name": "stdout",
          "output_type": "stream",
          "text": [
            "[[ 3  0  2  0  3  0  0]\n",
            " [ 3  8  0  1  3  0  0]\n",
            " [ 0  0  9  1 12  0  0]\n",
            " [ 0  0  1  0  0  0  0]\n",
            " [ 0  0  1  0 20  0  0]\n",
            " [ 0  1  4  0 44 74  0]\n",
            " [ 0  0  0  0  1  0  2]]\n"
          ]
        }
      ],
      "source": [
        "#Get the confusion matrix\n",
        "cf_matrix = confusion_matrix(np.argmax(y_val, axis=1), y_val_pred2)\n",
        "print(cf_matrix)"
      ]
    },
    {
      "cell_type": "code",
      "execution_count": null,
      "metadata": {
        "colab": {
          "background_save": true
        },
        "id": "gVtvW3YeaLlC",
        "outputId": "f6dee1c1-ba98-4d1f-b02f-495486add297"
      },
      "outputs": [
        {
          "data": {
            "image/png": "[encoded data removed]",
            "text/plain": [
              "<Figure size 432x288 with 2 Axes>"
            ]
          },
          "metadata": {},
          "output_type": "display_data"
        }
      ],
      "source": [
        "ax = sns.heatmap(cf_matrix / cf_matrix.sum(axis=1, keepdims=True), annot=True, \n",
        "            cmap='Blues')\n",
        "\n",
        "ax.set_title('Confusion Matrix \\n');\n",
        "ax.set_xlabel('\\nPredicted')\n",
        "ax.set_ylabel('Actual ');\n",
        "\n",
        "## Ticket labels - List must be in alphabetical order\n",
        "ax.xaxis.set_ticklabels(['AKIEC', 'BCC', 'BKL', 'DF', 'MEL', 'NV', 'VASC'])\n",
        "ax.yaxis.set_ticklabels(['AKIEC', 'BCC', 'BKL', 'DF', 'MEL', 'NV', 'VASC'])\n",
        "\n",
        "plt.rcParams[\"figure.figsize\"] = (15,3)\n",
        "\n",
        "## Display the visualization of the Confusion Matrix.\n",
        "plt.xticks(rotation=45, ha='right')\n",
        "plt.yticks(rotation=0, ha='right')\n",
        "plt.show()"
      ]
    },
    {
      "cell_type": "code",
      "execution_count": null,
      "metadata": {
        "colab": {
          "background_save": true
        },
        "id": "Ey-1yjWGeKs7"
      },
      "outputs": [],
      "source": [
        "# ordered count of rows per unique label\n",
        "#labels_count = df_val['Labels'].value_counts().sort_index()\n",
        "\n",
        "#f = plt.figure(figsize=(15, 6))\n",
        "#s = sns.barplot(x=labels_count.index,y=labels_count.values)\n",
        "#s.set_xticklabels(s.get_xticklabels(), rotation = 30)"
      ]
    },
    {
      "cell_type": "markdown",
      "metadata": {
        "id": "3K908bbiYwbS"
      },
      "source": [
        "#Testing"
      ]
    },
    {
      "cell_type": "code",
      "execution_count": null,
      "metadata": {
        "colab": {
          "background_save": true
        },
        "id": "NeMY2yvMYxsC"
      },
      "outputs": [],
      "source": [
        "dir_test = '/content/drive/MyDrive/PHD/Datasets/isic2018/ISIC2018_Task3_Test_Input/'\n",
        "filepaths = sorted( filter( lambda x: (os.path.isfile(os.path.join(dir_test, x))) and (x.endswith('.jpg')),\n",
        "                        os.listdir(dir_test) ) )"
      ]
    },
    {
      "cell_type": "code",
      "execution_count": null,
      "metadata": {
        "colab": {
          "background_save": true
        },
        "id": "6ic95mefkpG3"
      },
      "outputs": [],
      "source": [
        "df_test = pd.DataFrame(filepaths, columns =['image'])\n",
        "df_test['FilePaths'] = dir_test + df_test['image']\n",
        "#df_test"
      ]
    },
    {
      "cell_type": "code",
      "execution_count": null,
      "metadata": {
        "colab": {
          "background_save": true
        },
        "id": "NBa1TxPuY8ni"
      },
      "outputs": [],
      "source": [
        "df_test['image_px'] = df_test['FilePaths'].map(lambda x: np.asarray(Image.open(x).resize(IMG_SIZE)))"
      ]
    },
    {
      "cell_type": "code",
      "execution_count": null,
      "metadata": {
        "colab": {
          "background_save": true
        },
        "id": "60LYAT7VsNOZ",
        "outputId": "1d47e8d0-543a-4b0f-97f9-6a541547773f"
      },
      "outputs": [
        {
          "name": "stdout",
          "output_type": "stream",
          "text": [
            "(1512, 224, 224, 3)\n"
          ]
        }
      ],
      "source": [
        "X_test = np.asarray(df_test['image_px'].tolist())\n",
        "print(np.array(X_test).shape)"
      ]
    },
    {
      "cell_type": "code",
      "execution_count": null,
      "metadata": {
        "colab": {
          "background_save": true
        },
        "id": "cXnnIIwC4cHE"
      },
      "outputs": [],
      "source": [
        "#preprocess\n",
        "X_test = preprocess_image_input(X_test)"
      ]
    },
    {
      "cell_type": "markdown",
      "metadata": {
        "id": "FF7ml90JZ8FK"
      },
      "source": [
        "Calculate y_pred from training and testing for analysis"
      ]
    },
    {
      "cell_type": "code",
      "execution_count": null,
      "metadata": {
        "colab": {
          "background_save": true
        },
        "id": "KeDTXdaMLmyU"
      },
      "outputs": [],
      "source": [
        "#X_test = model.predict(X_test)"
      ]
    },
    {
      "cell_type": "code",
      "execution_count": null,
      "metadata": {
        "colab": {
          "base_uri": "https://localhost:8080/",
          "height": 374
        },
        "id": "dIX0AmEFNv3Y",
        "outputId": "da5140ac-6639-47f7-a3dd-ace388acd437"
      },
      "outputs": [
        {
          "output_type": "error",
          "ename": "NameError",
          "evalue": "ignored",
          "traceback": [
            "\u001b[0;31m---------------------------------------------------------------------------\u001b[0m",
            "\u001b[0;31mNameError\u001b[0m                                 Traceback (most recent call last)",
            "\u001b[0;32m<ipython-input-1-f92aa456658d>\u001b[0m in \u001b[0;36m<module>\u001b[0;34m\u001b[0m\n\u001b[1;32m      2\u001b[0m \u001b[0;31m#CHANGE THE MODEL IF NECESSARY\u001b[0m\u001b[0;34m\u001b[0m\u001b[0;34m\u001b[0m\u001b[0;34m\u001b[0m\u001b[0m\n\u001b[1;32m      3\u001b[0m \u001b[0;31m#X_test2 = model1.predict(X_test)\u001b[0m\u001b[0;34m\u001b[0m\u001b[0;34m\u001b[0m\u001b[0;34m\u001b[0m\u001b[0m\n\u001b[0;32m----> 4\u001b[0;31m \u001b[0mY_pred2\u001b[0m \u001b[0;34m=\u001b[0m \u001b[0mmodel\u001b[0m\u001b[0;34m.\u001b[0m\u001b[0mpredict\u001b[0m\u001b[0;34m(\u001b[0m\u001b[0mX_test2\u001b[0m\u001b[0;34m)\u001b[0m\u001b[0;34m\u001b[0m\u001b[0;34m\u001b[0m\u001b[0m\n\u001b[0m\u001b[1;32m      5\u001b[0m \u001b[0mprint\u001b[0m\u001b[0;34m(\u001b[0m\u001b[0;34m\"Y_pred2\"\u001b[0m\u001b[0;34m,\u001b[0m \u001b[0mY_pred2\u001b[0m\u001b[0;34m.\u001b[0m\u001b[0mshape\u001b[0m\u001b[0;34m)\u001b[0m\u001b[0;34m\u001b[0m\u001b[0;34m\u001b[0m\u001b[0m\n",
            "\u001b[0;31mNameError\u001b[0m: name 'model' is not defined"
          ]
        }
      ],
      "source": [
        "# predicting\n",
        "#CHANGE THE MODEL IF NECESSARY\n",
        "#X_test2 = model1.predict(X_test)\n",
        "Y_pred2 = model.predict(X_test2)\n",
        "print(\"Y_pred2\", Y_pred2.shape)"
      ]
    },
    {
      "cell_type": "code",
      "execution_count": null,
      "metadata": {
        "colab": {
          "background_save": true
        },
        "id": "7oeArO5CtxGb"
      },
      "outputs": [],
      "source": [
        "df_pred = pd.DataFrame(Y_pred2, columns = ['AKIEC', 'BCC', 'BKL', 'DF', 'MEL', 'NV', 'VASC'])\n",
        "df_pred['image'] = df_test['FilePaths'].map(lambda x: x.replace(dir_test, '').replace('.jpg', ''))\n",
        "df_pred = df_pred[['image', 'MEL', 'NV', 'BCC', 'AKIEC', 'BKL', 'DF', 'VASC']]\n",
        "df_pred.set_index(\"image\", inplace = True)"
      ]
    },
    {
      "cell_type": "code",
      "execution_count": null,
      "metadata": {
        "colab": {
          "background_save": true
        },
        "id": "9ynyd8PjT589"
      },
      "outputs": [],
      "source": [
        "#update MEL data using cut-off value\n",
        "df_pred.MEL[df_pred.MEL > i] = 1"
      ]
    },
    {
      "cell_type": "code",
      "execution_count": null,
      "metadata": {
        "colab": {
          "background_save": true
        },
        "id": "fjRdONoQVMq0"
      },
      "outputs": [],
      "source": [
        "df_pred.loc[df_pred.MEL > i, ['NV', 'BCC', 'AKIEC', 'BKL', 'DF', 'VASC']] = 0"
      ]
    },
    {
      "cell_type": "code",
      "execution_count": null,
      "metadata": {
        "colab": {
          "background_save": true
        },
        "id": "sOnjc3RJ0e4T"
      },
      "outputs": [],
      "source": [
        "df_pred.to_csv('/content/drive/MyDrive/PHD/Datasets/isic2018/response_SMOTE_Attention.csv')"
      ]
    },
    {
      "cell_type": "markdown",
      "metadata": {
        "id": "P0MghVs0tsGw"
      },
      "source": [
        "result: 0.656"
      ]
    },
    {
      "cell_type": "markdown",
      "metadata": {
        "id": "kE8Ziq-BlEP4"
      },
      "source": [
        "#Oversampling on feature map level"
      ]
    },
    {
      "cell_type": "code",
      "execution_count": null,
      "metadata": {
        "id": "PtgmvyhCndpB"
      },
      "outputs": [],
      "source": [
        "i = 176"
      ]
    },
    {
      "cell_type": "code",
      "execution_count": null,
      "metadata": {
        "id": "Lm05Zet_B5am"
      },
      "outputs": [],
      "source": [
        "for i in range(len(model.layers)):\n",
        "  layer = model.layers[i]\n",
        "  print(i, layer.name, layer.output_shape, layer.trainable)"
      ]
    },
    {
      "cell_type": "code",
      "execution_count": null,
      "metadata": {
        "id": "KqeSic6NmLsR"
      },
      "outputs": [],
      "source": [
        "# redefine model to output right after the first hidden layer\n",
        "model1 = Model(inputs=model.inputs, outputs=model.layers[i].output)"
      ]
    },
    {
      "cell_type": "code",
      "execution_count": null,
      "metadata": {
        "id": "ZVHYG9Rwm28i"
      },
      "outputs": [],
      "source": [
        "# get feature map for first hidden layer\n",
        "X_train_fm = model1.predict(X_train)\n",
        "X_val_fm = model1.predict(X_val)"
      ]
    },
    {
      "cell_type": "code",
      "execution_count": null,
      "metadata": {
        "colab": {
          "base_uri": "https://localhost:8080/"
        },
        "id": "VNozN8-wDUNL",
        "outputId": "11b33795-125c-4613-9cfd-e0aa4e809f87"
      },
      "outputs": [
        {
          "data": {
            "text/plain": [
              "(5321, 1024)"
            ]
          },
          "execution_count": 12,
          "metadata": {},
          "output_type": "execute_result"
        }
      ],
      "source": [
        "X_train_fm.shape"
      ]
    },
    {
      "cell_type": "code",
      "execution_count": null,
      "metadata": {
        "colab": {
          "base_uri": "https://localhost:8080/"
        },
        "id": "19hK7aQNeAQo",
        "outputId": "08a3698d-13c9-430e-d76f-c8e31bb65aeb"
      },
      "outputs": [
        {
          "name": "stdout",
          "output_type": "stream",
          "text": [
            "(14077, 1024)\n",
            "(14077, 7)\n",
            "(193, 224, 224, 3)\n",
            "(193, 7)\n",
            "Counter train data:  Counter({5: 2011, 4: 2011, 2: 2011, 3: 2011, 0: 2011, 1: 2011, 6: 2011})\n",
            "Counter val data:  Counter({5: 123, 2: 22, 4: 21, 1: 15, 0: 8, 6: 3, 3: 1})\n"
          ]
        }
      ],
      "source": [
        "X_train_fm_ov, y_train_ov = SMOTE_Data2(X_train_fm, y_train, True, 5)\n",
        "print(X_train_fm_ov.shape)\n",
        "print(y_train_ov.shape)\n",
        "print(X_val.shape)\n",
        "print(y_val.shape)\n",
        "print('Counter train data: ', Counter(np.argmax(y_train_ov, axis=1)))\n",
        "print('Counter val data: ', Counter(np.argmax(y_val, axis=1)))"
      ]
    },
    {
      "cell_type": "code",
      "execution_count": null,
      "metadata": {
        "id": "5qP4iyYcnAYa"
      },
      "outputs": [],
      "source": [
        "model2 = Model(inputs=model.layers[i].output, outputs=model.layers[len(model.layers)-1].output)"
      ]
    },
    {
      "cell_type": "code",
      "execution_count": null,
      "metadata": {
        "colab": {
          "base_uri": "https://localhost:8080/"
        },
        "id": "Pzdjs0WbvDB0",
        "outputId": "3ad591af-dbf0-4904-b645-362737595b2b"
      },
      "outputs": [
        {
          "name": "stdout",
          "output_type": "stream",
          "text": [
            "Epoch 1/300\n",
            "219/219 [==============================] - 2s 5ms/step - loss: 0.4858 - accuracy: 0.8572 - balanced_acc: 0.8576 - val_loss: 0.7743 - val_accuracy: 0.7202 - val_balanced_acc: 0.4059 - lr: 5.0000e-04\n",
            "Epoch 2/300\n",
            "219/219 [==============================] - 1s 4ms/step - loss: 0.4547 - accuracy: 0.8693 - balanced_acc: 0.8688 - val_loss: 0.7978 - val_accuracy: 0.6995 - val_balanced_acc: 0.3985 - lr: 5.0000e-04\n",
            "Epoch 3/300\n",
            "219/219 [==============================] - 1s 4ms/step - loss: 0.4385 - accuracy: 0.8755 - balanced_acc: 0.8728 - val_loss: 0.7950 - val_accuracy: 0.6995 - val_balanced_acc: 0.3985 - lr: 5.0000e-04\n",
            "Epoch 4/300\n",
            "219/219 [==============================] - 1s 4ms/step - loss: 0.4306 - accuracy: 0.8717 - balanced_acc: 0.8706 - val_loss: 0.7831 - val_accuracy: 0.6995 - val_balanced_acc: 0.3984 - lr: 5.0000e-04\n",
            "Epoch 5/300\n",
            "219/219 [==============================] - 1s 4ms/step - loss: 0.4201 - accuracy: 0.8767 - balanced_acc: 0.8771 - val_loss: 0.7902 - val_accuracy: 0.6995 - val_balanced_acc: 0.3984 - lr: 5.0000e-04\n",
            "Epoch 6/300\n",
            "219/219 [==============================] - 1s 4ms/step - loss: 0.4069 - accuracy: 0.8808 - balanced_acc: 0.8809 - val_loss: 0.7838 - val_accuracy: 0.6995 - val_balanced_acc: 0.4220 - lr: 5.0000e-04\n",
            "Epoch 7/300\n",
            "219/219 [==============================] - 1s 4ms/step - loss: 0.4025 - accuracy: 0.8800 - balanced_acc: 0.8801 - val_loss: 0.7982 - val_accuracy: 0.6891 - val_balanced_acc: 0.3903 - lr: 5.0000e-04\n",
            "Epoch 8/300\n",
            "219/219 [==============================] - 1s 4ms/step - loss: 0.3911 - accuracy: 0.8872 - balanced_acc: 0.8884 - val_loss: 0.8043 - val_accuracy: 0.6891 - val_balanced_acc: 0.3903 - lr: 5.0000e-04\n",
            "Epoch 9/300\n",
            "219/219 [==============================] - 1s 4ms/step - loss: 0.3840 - accuracy: 0.8870 - balanced_acc: 0.8869 - val_loss: 0.7981 - val_accuracy: 0.6995 - val_balanced_acc: 0.4220 - lr: 5.0000e-04\n",
            "Epoch 10/300\n",
            "219/219 [==============================] - 1s 4ms/step - loss: 0.3773 - accuracy: 0.8862 - balanced_acc: 0.8869 - val_loss: 0.8029 - val_accuracy: 0.6943 - val_balanced_acc: 0.4184 - lr: 5.0000e-04\n",
            "Epoch 11/300\n",
            "219/219 [==============================] - 1s 4ms/step - loss: 0.3710 - accuracy: 0.8893 - balanced_acc: 0.8881 - val_loss: 0.7943 - val_accuracy: 0.6995 - val_balanced_acc: 0.4220 - lr: 5.0000e-04\n",
            "Epoch 12/300\n",
            "219/219 [==============================] - 1s 4ms/step - loss: 0.3645 - accuracy: 0.8877 - balanced_acc: 0.8894 - val_loss: 0.8104 - val_accuracy: 0.6995 - val_balanced_acc: 0.4220 - lr: 5.0000e-04\n",
            "Epoch 13/300\n",
            "219/219 [==============================] - 1s 4ms/step - loss: 0.3623 - accuracy: 0.8932 - balanced_acc: 0.8932 - val_loss: 0.8173 - val_accuracy: 0.6995 - val_balanced_acc: 0.4220 - lr: 5.0000e-04\n",
            "Epoch 14/300\n",
            "219/219 [==============================] - 1s 4ms/step - loss: 0.3537 - accuracy: 0.8933 - balanced_acc: 0.8937 - val_loss: 0.8019 - val_accuracy: 0.6995 - val_balanced_acc: 0.4220 - lr: 5.0000e-04\n",
            "Epoch 15/300\n",
            "219/219 [==============================] - 1s 4ms/step - loss: 0.3540 - accuracy: 0.8927 - balanced_acc: 0.8921 - val_loss: 0.8052 - val_accuracy: 0.6995 - val_balanced_acc: 0.4220 - lr: 5.0000e-04\n",
            "Epoch 16/300\n",
            "219/219 [==============================] - 1s 4ms/step - loss: 0.3440 - accuracy: 0.8976 - balanced_acc: 0.8958 - val_loss: 0.8241 - val_accuracy: 0.6995 - val_balanced_acc: 0.4220 - lr: 5.0000e-04\n",
            "Epoch 17/300\n",
            "219/219 [==============================] - 1s 4ms/step - loss: 0.3369 - accuracy: 0.9004 - balanced_acc: 0.9010 - val_loss: 0.8180 - val_accuracy: 0.6995 - val_balanced_acc: 0.4198 - lr: 5.0000e-04\n",
            "Epoch 18/300\n",
            "219/219 [==============================] - 1s 4ms/step - loss: 0.3325 - accuracy: 0.9019 - balanced_acc: 0.9014 - val_loss: 0.8236 - val_accuracy: 0.6943 - val_balanced_acc: 0.4211 - lr: 5.0000e-04\n",
            "Epoch 19/300\n",
            "219/219 [==============================] - 1s 4ms/step - loss: 0.3286 - accuracy: 0.9010 - balanced_acc: 0.9006 - val_loss: 0.8159 - val_accuracy: 0.7047 - val_balanced_acc: 0.4231 - lr: 5.0000e-04\n",
            "Epoch 20/300\n",
            "219/219 [==============================] - 1s 4ms/step - loss: 0.3226 - accuracy: 0.9047 - balanced_acc: 0.9042 - val_loss: 0.8044 - val_accuracy: 0.7150 - val_balanced_acc: 0.4253 - lr: 5.0000e-04\n",
            "Epoch 21/300\n",
            "219/219 [==============================] - 1s 4ms/step - loss: 0.3221 - accuracy: 0.9012 - balanced_acc: 0.9021 - val_loss: 0.8079 - val_accuracy: 0.7150 - val_balanced_acc: 0.4253 - lr: 5.0000e-04\n",
            "Epoch 22/300\n",
            "219/219 [==============================] - 1s 4ms/step - loss: 0.3174 - accuracy: 0.9059 - balanced_acc: 0.9060 - val_loss: 0.8207 - val_accuracy: 0.7047 - val_balanced_acc: 0.4233 - lr: 5.0000e-04\n",
            "Epoch 23/300\n",
            "219/219 [==============================] - 1s 4ms/step - loss: 0.3164 - accuracy: 0.9037 - balanced_acc: 0.9030 - val_loss: 0.8166 - val_accuracy: 0.7098 - val_balanced_acc: 0.4244 - lr: 5.0000e-04\n",
            "Epoch 24/300\n",
            "219/219 [==============================] - 1s 4ms/step - loss: 0.3074 - accuracy: 0.9079 - balanced_acc: 0.9079 - val_loss: 0.8376 - val_accuracy: 0.6995 - val_balanced_acc: 0.4222 - lr: 5.0000e-04\n",
            "Epoch 25/300\n",
            "219/219 [==============================] - 1s 4ms/step - loss: 0.3050 - accuracy: 0.9091 - balanced_acc: 0.9078 - val_loss: 0.8199 - val_accuracy: 0.7150 - val_balanced_acc: 0.4291 - lr: 5.0000e-04\n",
            "Epoch 26/300\n",
            "219/219 [==============================] - 1s 4ms/step - loss: 0.3040 - accuracy: 0.9087 - balanced_acc: 0.9080 - val_loss: 0.8270 - val_accuracy: 0.7098 - val_balanced_acc: 0.4280 - lr: 5.0000e-04\n",
            "Epoch 27/300\n",
            "219/219 [==============================] - 1s 4ms/step - loss: 0.2995 - accuracy: 0.9105 - balanced_acc: 0.9096 - val_loss: 0.8261 - val_accuracy: 0.7098 - val_balanced_acc: 0.4305 - lr: 5.0000e-04\n",
            "Epoch 28/300\n",
            "219/219 [==============================] - 1s 4ms/step - loss: 0.2916 - accuracy: 0.9149 - balanced_acc: 0.9134 - val_loss: 0.8338 - val_accuracy: 0.7098 - val_balanced_acc: 0.4305 - lr: 5.0000e-04\n",
            "Epoch 29/300\n",
            "219/219 [==============================] - 1s 4ms/step - loss: 0.2912 - accuracy: 0.9117 - balanced_acc: 0.9118 - val_loss: 0.8289 - val_accuracy: 0.7047 - val_balanced_acc: 0.4209 - lr: 5.0000e-04\n",
            "Epoch 30/300\n",
            "219/219 [==============================] - 1s 4ms/step - loss: 0.2861 - accuracy: 0.9146 - balanced_acc: 0.9157 - val_loss: 0.8332 - val_accuracy: 0.7150 - val_balanced_acc: 0.4316 - lr: 5.0000e-04\n",
            "Epoch 31/300\n",
            "219/219 [==============================] - 1s 4ms/step - loss: 0.2893 - accuracy: 0.9108 - balanced_acc: 0.9107 - val_loss: 0.8428 - val_accuracy: 0.7098 - val_balanced_acc: 0.4305 - lr: 5.0000e-04\n",
            "Epoch 32/300\n",
            "219/219 [==============================] - 1s 4ms/step - loss: 0.2809 - accuracy: 0.9192 - balanced_acc: 0.9186 - val_loss: 0.8423 - val_accuracy: 0.7150 - val_balanced_acc: 0.4316 - lr: 5.0000e-04\n",
            "Epoch 33/300\n",
            "219/219 [==============================] - 1s 4ms/step - loss: 0.2824 - accuracy: 0.9166 - balanced_acc: 0.9171 - val_loss: 0.8466 - val_accuracy: 0.7098 - val_balanced_acc: 0.4280 - lr: 5.0000e-04\n",
            "Epoch 34/300\n",
            "219/219 [==============================] - 1s 4ms/step - loss: 0.2723 - accuracy: 0.9205 - balanced_acc: 0.9204 - val_loss: 0.8477 - val_accuracy: 0.7150 - val_balanced_acc: 0.4316 - lr: 5.0000e-04\n",
            "Epoch 35/300\n",
            "219/219 [==============================] - 1s 4ms/step - loss: 0.2751 - accuracy: 0.9216 - balanced_acc: 0.9230 - val_loss: 0.8411 - val_accuracy: 0.7150 - val_balanced_acc: 0.4316 - lr: 5.0000e-04\n",
            "Epoch 36/300\n",
            "219/219 [==============================] - 1s 4ms/step - loss: 0.2738 - accuracy: 0.9189 - balanced_acc: 0.9178 - val_loss: 0.8432 - val_accuracy: 0.7150 - val_balanced_acc: 0.4316 - lr: 5.0000e-04\n",
            "Epoch 37/300\n",
            "219/219 [==============================] - 1s 4ms/step - loss: 0.2642 - accuracy: 0.9224 - balanced_acc: 0.9232 - val_loss: 0.8471 - val_accuracy: 0.7150 - val_balanced_acc: 0.4316 - lr: 5.0000e-04\n",
            "Epoch 38/300\n",
            "219/219 [==============================] - 1s 4ms/step - loss: 0.2686 - accuracy: 0.9196 - balanced_acc: 0.9191 - val_loss: 0.8562 - val_accuracy: 0.7098 - val_balanced_acc: 0.4280 - lr: 5.0000e-04\n",
            "Epoch 39/300\n",
            "219/219 [==============================] - 1s 4ms/step - loss: 0.2638 - accuracy: 0.9238 - balanced_acc: 0.9227 - val_loss: 0.8272 - val_accuracy: 0.7358 - val_balanced_acc: 0.4355 - lr: 5.0000e-04\n",
            "Epoch 40/300\n",
            "219/219 [==============================] - 1s 4ms/step - loss: 0.2654 - accuracy: 0.9227 - balanced_acc: 0.9213 - val_loss: 0.8400 - val_accuracy: 0.7306 - val_balanced_acc: 0.4346 - lr: 5.0000e-04\n",
            "Epoch 41/300\n",
            "219/219 [==============================] - 1s 4ms/step - loss: 0.2600 - accuracy: 0.9252 - balanced_acc: 0.9255 - val_loss: 0.8430 - val_accuracy: 0.7306 - val_balanced_acc: 0.4425 - lr: 5.0000e-04\n",
            "Epoch 42/300\n",
            "219/219 [==============================] - 1s 4ms/step - loss: 0.2552 - accuracy: 0.9242 - balanced_acc: 0.9255 - val_loss: 0.8520 - val_accuracy: 0.7254 - val_balanced_acc: 0.4414 - lr: 5.0000e-04\n",
            "Epoch 43/300\n",
            "219/219 [==============================] - 1s 4ms/step - loss: 0.2562 - accuracy: 0.9248 - balanced_acc: 0.9242 - val_loss: 0.8510 - val_accuracy: 0.7150 - val_balanced_acc: 0.3883 - lr: 5.0000e-04\n",
            "Epoch 44/300\n",
            "219/219 [==============================] - 1s 4ms/step - loss: 0.2452 - accuracy: 0.9297 - balanced_acc: 0.9318 - val_loss: 0.8566 - val_accuracy: 0.7254 - val_balanced_acc: 0.3983 - lr: 5.0000e-04\n",
            "Epoch 45/300\n",
            "219/219 [==============================] - 1s 4ms/step - loss: 0.2529 - accuracy: 0.9256 - balanced_acc: 0.9260 - val_loss: 0.8423 - val_accuracy: 0.7306 - val_balanced_acc: 0.4019 - lr: 5.0000e-04\n",
            "Epoch 46/300\n",
            "219/219 [==============================] - 1s 4ms/step - loss: 0.2528 - accuracy: 0.9264 - balanced_acc: 0.9264 - val_loss: 0.8599 - val_accuracy: 0.7254 - val_balanced_acc: 0.4008 - lr: 5.0000e-04\n",
            "Epoch 47/300\n",
            "219/219 [==============================] - 1s 4ms/step - loss: 0.2418 - accuracy: 0.9322 - balanced_acc: 0.9336 - val_loss: 0.8507 - val_accuracy: 0.7254 - val_balanced_acc: 0.4008 - lr: 5.0000e-04\n",
            "Epoch 48/300\n",
            "219/219 [==============================] - 1s 4ms/step - loss: 0.2453 - accuracy: 0.9271 - balanced_acc: 0.9246 - val_loss: 0.8668 - val_accuracy: 0.7254 - val_balanced_acc: 0.4086 - lr: 5.0000e-04\n",
            "Epoch 49/300\n",
            "219/219 [==============================] - 1s 4ms/step - loss: 0.2429 - accuracy: 0.9296 - balanced_acc: 0.9302 - val_loss: 0.8560 - val_accuracy: 0.7202 - val_balanced_acc: 0.3972 - lr: 5.0000e-04\n",
            "Epoch 50/300\n",
            "219/219 [==============================] - 1s 4ms/step - loss: 0.2390 - accuracy: 0.9315 - balanced_acc: 0.9306 - val_loss: 0.8703 - val_accuracy: 0.7254 - val_balanced_acc: 0.4008 - lr: 5.0000e-04\n",
            "Epoch 51/300\n",
            "219/219 [==============================] - 1s 4ms/step - loss: 0.2380 - accuracy: 0.9291 - balanced_acc: 0.9279 - val_loss: 0.8449 - val_accuracy: 0.7254 - val_balanced_acc: 0.3983 - lr: 5.0000e-04\n",
            "Epoch 52/300\n",
            "219/219 [==============================] - 1s 4ms/step - loss: 0.2336 - accuracy: 0.9334 - balanced_acc: 0.9335 - val_loss: 0.8555 - val_accuracy: 0.7254 - val_balanced_acc: 0.4008 - lr: 5.0000e-04\n",
            "Epoch 53/300\n",
            "219/219 [==============================] - 1s 4ms/step - loss: 0.2301 - accuracy: 0.9363 - balanced_acc: 0.9355 - val_loss: 0.8598 - val_accuracy: 0.7254 - val_balanced_acc: 0.3983 - lr: 5.0000e-04\n",
            "Epoch 54/300\n",
            "219/219 [==============================] - 1s 4ms/step - loss: 0.2330 - accuracy: 0.9314 - balanced_acc: 0.9313 - val_loss: 0.8588 - val_accuracy: 0.7306 - val_balanced_acc: 0.4072 - lr: 5.0000e-04\n",
            "Epoch 55/300\n",
            "219/219 [==============================] - 1s 4ms/step - loss: 0.2295 - accuracy: 0.9344 - balanced_acc: 0.9329 - val_loss: 0.8577 - val_accuracy: 0.7306 - val_balanced_acc: 0.4097 - lr: 5.0000e-04\n",
            "Epoch 56/300\n",
            "219/219 [==============================] - 1s 4ms/step - loss: 0.2250 - accuracy: 0.9375 - balanced_acc: 0.9372 - val_loss: 0.8633 - val_accuracy: 0.7254 - val_balanced_acc: 0.4061 - lr: 5.0000e-04\n",
            "Epoch 57/300\n",
            "219/219 [==============================] - 1s 4ms/step - loss: 0.2266 - accuracy: 0.9361 - balanced_acc: 0.9368 - val_loss: 0.8627 - val_accuracy: 0.7254 - val_balanced_acc: 0.3983 - lr: 5.0000e-04\n",
            "Epoch 58/300\n",
            "219/219 [==============================] - 1s 4ms/step - loss: 0.2254 - accuracy: 0.9343 - balanced_acc: 0.9327 - val_loss: 0.8437 - val_accuracy: 0.7358 - val_balanced_acc: 0.4027 - lr: 5.0000e-04\n",
            "Epoch 59/300\n",
            "219/219 [==============================] - 1s 4ms/step - loss: 0.2202 - accuracy: 0.9353 - balanced_acc: 0.9355 - val_loss: 0.8668 - val_accuracy: 0.7254 - val_balanced_acc: 0.4008 - lr: 5.0000e-04\n",
            "Epoch 60/300\n",
            "219/219 [==============================] - 1s 4ms/step - loss: 0.2190 - accuracy: 0.9378 - balanced_acc: 0.9371 - val_loss: 0.8646 - val_accuracy: 0.7358 - val_balanced_acc: 0.4081 - lr: 5.0000e-04\n",
            "Epoch 61/300\n",
            "215/219 [============================>.] - ETA: 0s - loss: 0.2197 - accuracy: 0.9369 - balanced_acc: 0.9384\n",
            "Epoch 61: ReduceLROnPlateau reducing learning rate to 0.0002500000118743628.\n",
            "219/219 [==============================] - 1s 4ms/step - loss: 0.2191 - accuracy: 0.9373 - balanced_acc: 0.9387 - val_loss: 0.8682 - val_accuracy: 0.7358 - val_balanced_acc: 0.4105 - lr: 5.0000e-04\n",
            "Epoch 62/300\n",
            "219/219 [==============================] - 1s 4ms/step - loss: 0.2152 - accuracy: 0.9390 - balanced_acc: 0.9375 - val_loss: 0.8723 - val_accuracy: 0.7254 - val_balanced_acc: 0.4008 - lr: 2.5000e-04\n",
            "Epoch 63/300\n",
            "219/219 [==============================] - 1s 4ms/step - loss: 0.2158 - accuracy: 0.9386 - balanced_acc: 0.9383 - val_loss: 0.8657 - val_accuracy: 0.7306 - val_balanced_acc: 0.4097 - lr: 2.5000e-04\n",
            "Epoch 64/300\n",
            "219/219 [==============================] - 1s 4ms/step - loss: 0.2146 - accuracy: 0.9371 - balanced_acc: 0.9366 - val_loss: 0.8665 - val_accuracy: 0.7254 - val_balanced_acc: 0.4008 - lr: 2.5000e-04\n",
            "Epoch 65/300\n",
            "219/219 [==============================] - 1s 4ms/step - loss: 0.2133 - accuracy: 0.9403 - balanced_acc: 0.9403 - val_loss: 0.8622 - val_accuracy: 0.7306 - val_balanced_acc: 0.4097 - lr: 2.5000e-04\n",
            "Epoch 66/300\n",
            "219/219 [==============================] - 1s 4ms/step - loss: 0.2092 - accuracy: 0.9430 - balanced_acc: 0.9431 - val_loss: 0.8594 - val_accuracy: 0.7358 - val_balanced_acc: 0.4081 - lr: 2.5000e-04\n",
            "Epoch 67/300\n",
            "219/219 [==============================] - 1s 4ms/step - loss: 0.2153 - accuracy: 0.9390 - balanced_acc: 0.9392 - val_loss: 0.8645 - val_accuracy: 0.7306 - val_balanced_acc: 0.4097 - lr: 2.5000e-04\n",
            "Epoch 68/300\n",
            "219/219 [==============================] - 1s 4ms/step - loss: 0.2052 - accuracy: 0.9436 - balanced_acc: 0.9435 - val_loss: 0.8704 - val_accuracy: 0.7254 - val_balanced_acc: 0.3983 - lr: 2.5000e-04\n",
            "Epoch 69/300\n",
            "219/219 [==============================] - 1s 4ms/step - loss: 0.2107 - accuracy: 0.9392 - balanced_acc: 0.9383 - val_loss: 0.8670 - val_accuracy: 0.7306 - val_balanced_acc: 0.4072 - lr: 2.5000e-04\n",
            "Epoch 70/300\n",
            "219/219 [==============================] - 1s 4ms/step - loss: 0.2155 - accuracy: 0.9386 - balanced_acc: 0.9395 - val_loss: 0.8686 - val_accuracy: 0.7254 - val_balanced_acc: 0.3983 - lr: 2.5000e-04\n",
            "Epoch 71/300\n",
            "219/219 [==============================] - 1s 4ms/step - loss: 0.2065 - accuracy: 0.9410 - balanced_acc: 0.9405 - val_loss: 0.8642 - val_accuracy: 0.7306 - val_balanced_acc: 0.4019 - lr: 2.5000e-04\n"
          ]
        }
      ],
      "source": [
        "best_model_fpath = '/content/drive/MyDrive/PHD/Model/Feature-Map-Ov/best_model_no.h5'\n",
        "last_model_fpath = '/content/drive/MyDrive/PHD/Model/Feature-Map-Ov/last_model_no.h5'\n",
        "model2.compile(optimizer = opt_SGD , loss = \"categorical_crossentropy\", metrics=['accuracy', balanced_acc])\n",
        "hst = model2.fit(X_train_fm_ov, y_train_ov, epochs=EPOCHS, batch_size=BATCH_SIZE, validation_data=(X_val_fm, y_val), verbose=1,\n",
        "                    steps_per_epoch=X_train_fm_ov.shape[0] // BATCH_SIZE, \n",
        "                    callbacks=[learning_rate_reduction,early_stopping_monitor])"
      ]
    },
    {
      "cell_type": "code",
      "execution_count": null,
      "metadata": {
        "colab": {
          "base_uri": "https://localhost:8080/",
          "height": 295
        },
        "id": "8XhlbWn--8Or",
        "outputId": "cbe10a35-ef6a-480a-fd51-646927cfa3ba"
      },
      "outputs": [
        {
          "data": {
            "image/png": "[encoded data removed]",
            "text/plain": [
              "<Figure size 432x288 with 1 Axes>"
            ]
          },
          "metadata": {},
          "output_type": "display_data"
        }
      ],
      "source": [
        "# summarize history for accuracy\n",
        "plt.plot(hst.history['accuracy'])\n",
        "plt.plot(hst.history['balanced_acc'])\n",
        "plt.plot(hst.history['val_accuracy'])\n",
        "plt.plot(hst.history['val_balanced_acc'])\n",
        "plt.title('Model accuracy')\n",
        "plt.ylabel('Performance')\n",
        "plt.xlabel('epoch')\n",
        "plt.legend(['train accuracy', 'train balanced acc.', 'val. accuracy', 'val. balanced acc.'], loc='lower right')\n",
        "plt.show()"
      ]
    },
    {
      "cell_type": "code",
      "execution_count": null,
      "metadata": {
        "id": "IW-_U6vFpIci"
      },
      "outputs": [],
      "source": [
        "# get feature map for first hidden layer\n",
        "y_train_pred = model2.predict(X_train_fm_ov)\n",
        "y_val_pred = model2.predict(X_val_fm)"
      ]
    },
    {
      "cell_type": "code",
      "execution_count": null,
      "metadata": {
        "colab": {
          "base_uri": "https://localhost:8080/"
        },
        "id": "OLop0YK-ZK40",
        "outputId": "dc59403f-213d-4492-c552-13632f739b97"
      },
      "outputs": [
        {
          "name": "stdout",
          "output_type": "stream",
          "text": [
            "accuracy on training 0.959508417986787\n",
            "balanced accuracy on training 0.959508417986787\n",
            "accuracy on validation 0.7305699481865285\n",
            "balanced accuracy on validation 0.5420233947237432\n",
            "Score on val data:  (0.47325132163460576, 0.5420233947237432, 0.4999546186338479, None)\n"
          ]
        }
      ],
      "source": [
        "print('accuracy on training',accuracy_score(np.argmax(y_train_ov, axis=1), np.argmax(y_train_pred, axis=1)))\n",
        "print('balanced accuracy on training',balanced_accuracy_score(np.argmax(y_train_ov, axis=1), np.argmax(y_train_pred, axis=1)))\n",
        "print('accuracy on validation',accuracy_score(np.argmax(y_val, axis=1), np.argmax(y_val_pred, axis=1)))\n",
        "print('balanced accuracy on validation',balanced_accuracy_score(np.argmax(y_val, axis=1), np.argmax(y_val_pred, axis=1)))\n",
        "print('Score on val data: ',precision_recall_fscore_support(np.argmax(y_val, axis=1), np.argmax(y_val_pred, axis=1), average='macro'))"
      ]
    },
    {
      "cell_type": "markdown",
      "metadata": {
        "id": "RcRGeofw-8tK"
      },
      "source": [
        "#Load ISIC 2018 Challange Data"
      ]
    },
    {
      "cell_type": "code",
      "execution_count": null,
      "metadata": {
        "id": "l3P7IjyLuZGY"
      },
      "outputs": [],
      "source": [
        "X_train, y_train, X_val, y_val = load_isic2018_dataset(train_under_frac = 0.7)"
      ]
    },
    {
      "cell_type": "code",
      "execution_count": null,
      "metadata": {
        "colab": {
          "base_uri": "https://localhost:8080/",
          "height": 512
        },
        "id": "2IncA-_o_n5w",
        "outputId": "6db08704-addd-42d9-9371-4d805a2db101"
      },
      "outputs": [
        {
          "data": {
            "text/plain": [
              "[Text(0, 0, 'DF'),\n",
              " Text(0, 0, 'VASC'),\n",
              " Text(0, 0, 'AKIEC'),\n",
              " Text(0, 0, 'BCC'),\n",
              " Text(0, 0, 'BKL'),\n",
              " Text(0, 0, 'MEL'),\n",
              " Text(0, 0, 'NV')]"
            ]
          },
          "execution_count": 5,
          "metadata": {},
          "output_type": "execute_result"
        },
        {
          "data": {
            "image/png": "[encoded data removed]",
            "text/plain": [
              "<Figure size 1080x432 with 1 Axes>"
            ]
          },
          "metadata": {},
          "output_type": "display_data"
        }
      ],
      "source": [
        "# ordered count of rows per unique label\n",
        "labels_count = y_train.value_counts(ascending=True)\n",
        "\n",
        "f = plt.figure(figsize=(15, 6))\n",
        "s = sns.barplot(x=labels_count.index,y=labels_count.values)\n",
        "s.set_xticklabels(s.get_xticklabels(), rotation = 30)"
      ]
    },
    {
      "cell_type": "markdown",
      "metadata": {
        "id": "AnKMKSb4Bkym"
      },
      "source": [
        "Plot 3 images per label"
      ]
    },
    {
      "cell_type": "code",
      "execution_count": null,
      "metadata": {
        "colab": {
          "base_uri": "https://localhost:8080/",
          "height": 864
        },
        "id": "jdnVuqbFBW3K",
        "outputId": "f595d1a4-59e0-49c6-b8af-b125b5cc5704"
      },
      "outputs": [
        {
          "ename": "ValueError",
          "evalue": "ignored",
          "output_type": "error",
          "traceback": [
            "\u001b[0;31m---------------------------------------------------------------------------\u001b[0m",
            "\u001b[0;31mValueError\u001b[0m                                Traceback (most recent call last)",
            "\u001b[0;32m<ipython-input-11-04ac16d843b8>\u001b[0m in \u001b[0;36m<module>\u001b[0;34m\u001b[0m\n\u001b[1;32m     21\u001b[0m \u001b[0mlabels\u001b[0m \u001b[0;34m=\u001b[0m \u001b[0msorted\u001b[0m\u001b[0;34m(\u001b[0m\u001b[0mdf1\u001b[0m\u001b[0;34m[\u001b[0m\u001b[0;34m'y_train'\u001b[0m\u001b[0;34m]\u001b[0m\u001b[0;34m.\u001b[0m\u001b[0munique\u001b[0m\u001b[0;34m(\u001b[0m\u001b[0;34m)\u001b[0m\u001b[0;34m)\u001b[0m\u001b[0;34m\u001b[0m\u001b[0;34m\u001b[0m\u001b[0m\n\u001b[1;32m     22\u001b[0m \u001b[0;32mfor\u001b[0m \u001b[0mlabel\u001b[0m \u001b[0;32min\u001b[0m \u001b[0mrange\u001b[0m\u001b[0;34m(\u001b[0m\u001b[0;36m7\u001b[0m\u001b[0;34m)\u001b[0m\u001b[0;34m:\u001b[0m\u001b[0;34m\u001b[0m\u001b[0;34m\u001b[0m\u001b[0m\n\u001b[0;32m---> 23\u001b[0;31m     \u001b[0mplot_images_per_label\u001b[0m\u001b[0;34m(\u001b[0m\u001b[0mdf1\u001b[0m\u001b[0;34m,\u001b[0m \u001b[0mlabel\u001b[0m\u001b[0;34m,\u001b[0m \u001b[0;36m3\u001b[0m\u001b[0;34m,\u001b[0m \u001b[0;34m(\u001b[0m\u001b[0;36m12\u001b[0m\u001b[0;34m,\u001b[0m\u001b[0;36m9\u001b[0m\u001b[0;34m)\u001b[0m\u001b[0;34m)\u001b[0m\u001b[0;34m\u001b[0m\u001b[0;34m\u001b[0m\u001b[0m\n\u001b[0m",
            "\u001b[0;32m<ipython-input-11-04ac16d843b8>\u001b[0m in \u001b[0;36mplot_images_per_label\u001b[0;34m(df, label, cols, size)\u001b[0m\n\u001b[1;32m      5\u001b[0m     \u001b[0mcntCur\u001b[0m \u001b[0;34m=\u001b[0m \u001b[0;36m0\u001b[0m\u001b[0;34m\u001b[0m\u001b[0;34m\u001b[0m\u001b[0m\n\u001b[1;32m      6\u001b[0m     \u001b[0;32mfor\u001b[0m \u001b[0mindex\u001b[0m\u001b[0;34m,\u001b[0m \u001b[0mrow\u001b[0m \u001b[0;32min\u001b[0m \u001b[0mdf\u001b[0m\u001b[0;34m.\u001b[0m\u001b[0miterrows\u001b[0m\u001b[0;34m(\u001b[0m\u001b[0;34m)\u001b[0m\u001b[0;34m:\u001b[0m\u001b[0;34m\u001b[0m\u001b[0;34m\u001b[0m\u001b[0m\n\u001b[0;32m----> 7\u001b[0;31m         \u001b[0;32mif\u001b[0m\u001b[0;34m(\u001b[0m\u001b[0my_train\u001b[0m \u001b[0;34m==\u001b[0m \u001b[0mlabel\u001b[0m \u001b[0;32mand\u001b[0m \u001b[0mcntCur\u001b[0m \u001b[0;34m<\u001b[0m \u001b[0mcntMax\u001b[0m\u001b[0;34m)\u001b[0m\u001b[0;34m:\u001b[0m\u001b[0;34m\u001b[0m\u001b[0;34m\u001b[0m\u001b[0m\n\u001b[0m\u001b[1;32m      8\u001b[0m             \u001b[0maxs\u001b[0m\u001b[0;34m[\u001b[0m\u001b[0mcntCur\u001b[0m\u001b[0;34m]\u001b[0m\u001b[0;34m.\u001b[0m\u001b[0mimshow\u001b[0m\u001b[0;34m(\u001b[0m\u001b[0mplt\u001b[0m\u001b[0;34m.\u001b[0m\u001b[0mimread\u001b[0m\u001b[0;34m(\u001b[0m\u001b[0mdf\u001b[0m\u001b[0;34m.\u001b[0m\u001b[0mFilePaths\u001b[0m\u001b[0;34m[\u001b[0m\u001b[0mindex\u001b[0m\u001b[0;34m]\u001b[0m\u001b[0;34m)\u001b[0m\u001b[0;34m)\u001b[0m\u001b[0;34m\u001b[0m\u001b[0;34m\u001b[0m\u001b[0m\n\u001b[1;32m      9\u001b[0m             \u001b[0maxs\u001b[0m\u001b[0;34m[\u001b[0m\u001b[0mcntCur\u001b[0m\u001b[0;34m]\u001b[0m\u001b[0;34m.\u001b[0m\u001b[0mset_title\u001b[0m\u001b[0;34m(\u001b[0m\u001b[0mdf\u001b[0m\u001b[0;34m.\u001b[0m\u001b[0mLabels\u001b[0m\u001b[0;34m[\u001b[0m\u001b[0mindex\u001b[0m\u001b[0;34m]\u001b[0m\u001b[0;34m)\u001b[0m\u001b[0;34m\u001b[0m\u001b[0;34m\u001b[0m\u001b[0m\n",
            "\u001b[0;31mValueError\u001b[0m: The truth value of an array with more than one element is ambiguous. Use a.any() or a.all()"
          ]
        },
        {
          "data": {
            "image/png": "[encoded data removed]",
            "text/plain": [
              "<Figure size 864x648 with 3 Axes>"
            ]
          },
          "metadata": {},
          "output_type": "display_data"
        }
      ],
      "source": [
        "def plot_images_per_label(df, label, cols: int, size: tuple):\n",
        "    fig, axs = plt.subplots(nrows=1, ncols=cols, figsize=size)\n",
        "\n",
        "    cntMax = cols\n",
        "    cntCur = 0\n",
        "    for index, row in df.iterrows():\n",
        "        if(y_train == label and cntCur < cntMax):\n",
        "            axs[cntCur].imshow(plt.imread(df.FilePaths[index]))\n",
        "            axs[cntCur].set_title(df.Labels[index])\n",
        "\n",
        "            cntCur += 1\n",
        "        else:\n",
        "            if(cntCur >= cntMax):\n",
        "                break\n",
        "    \n",
        "    plt.tight_layout()\n",
        "    plt.show()\n",
        "\n",
        "\n",
        "# unique labels\n",
        "labels = sorted(df1['y_train'].unique())\n",
        "for label in range(7):\n",
        "    plot_images_per_label(df1, label, 3, (12,9))"
      ]
    },
    {
      "cell_type": "code",
      "execution_count": null,
      "metadata": {
        "colab": {
          "base_uri": "https://localhost:8080/",
          "height": 241
        },
        "id": "asV1O58Lrq-R",
        "outputId": "e6ae844a-3750-45b9-cf31-9c5b2da4c557"
      },
      "outputs": [
        {
          "data": {
            "image/png": "[encoded data removed]",
            "text/plain": [
              "<PIL.Image.Image image mode=RGB size=224x224 at 0x7F054192F810>"
            ]
          },
          "metadata": {},
          "output_type": "display_data"
        }
      ],
      "source": [
        "from PIL import Image\n",
        "img = Image.fromarray(X_train[0], 'RGB')\n",
        "display(img)"
      ]
    },
    {
      "cell_type": "markdown",
      "metadata": {
        "id": "qRKKrNacAZtl"
      },
      "source": [
        "Drop duplicate images"
      ]
    },
    {
      "cell_type": "code",
      "execution_count": null,
      "metadata": {
        "id": "ERwfyPDHP-zC"
      },
      "outputs": [],
      "source": [
        "#df_group = pd.read_csv('/content/drive/MyDrive/PHD/Datasets/isic2018/ISIC2018_Task3_Training_LesionGroupings.csv') \n",
        "#df_train = df_train.set_index('image').join(df_group.set_index('image'))\n",
        "#df_train = df_train.drop_duplicates(subset=['lesion_id'])"
      ]
    },
    {
      "cell_type": "markdown",
      "metadata": {
        "id": "cNBXx28B9yGu"
      },
      "source": [
        "#DeepSMOTE Oversampling"
      ]
    },
    {
      "cell_type": "code",
      "execution_count": null,
      "metadata": {
        "id": "YmX_Uqbmj-tN"
      },
      "outputs": [],
      "source": [
        "from numpy import moveaxis\n",
        "from sklearn.neighbors import NearestNeighbors\n",
        "import torch\n",
        "import torch.nn as nn\n",
        "\n",
        "max_el = np.inf\n",
        "\n",
        "args = {}\n",
        "args['dim_h'] = 64         # factor controlling size of hidden layers\n",
        "args['n_channel'] = 3#1    # number of channels in the input data \n",
        "args['n_z'] = 600 #300     # number of dimensions in latent space. \n",
        "args['sigma'] = 1.0        # variance in n_z\n",
        "args['lambda'] = 0.01      # hyper param for weight of discriminator loss\n",
        "args['lr'] = 0.0002        # learning rate for Adam optimizer .000\n",
        "args['epochs'] = 300       # how many epochs to run for\n",
        "args['batch_size'] = 100   # batch size for SGD\n",
        "args['save'] = True        # save weights at each epoch of training if True\n",
        "args['train'] = True       # train networks if True, else load networks from\n",
        "args['patience'] = 20"
      ]
    },
    {
      "cell_type": "code",
      "execution_count": null,
      "metadata": {
        "id": "NydOdPMajEfT"
      },
      "outputs": [],
      "source": [
        "class Encoder(nn.Module):\n",
        "    def __init__(self, args):\n",
        "        super(Encoder, self).__init__()\n",
        "\n",
        "        self.n_channel = args['n_channel']\n",
        "        self.dim_h = args['dim_h']\n",
        "        self.n_z = args['n_z']\n",
        "        \n",
        "        # convolutional filters, work excellent with image data\n",
        "        # [(W−K+2P)/S]+1\n",
        "        self.conv = nn.Sequential(\n",
        "            nn.AvgPool2d(7, stride=7),\n",
        "            nn.Conv2d(self.n_channel, self.dim_h, 4, 2, 1, bias=False),# 16\n",
        "            nn.LeakyReLU(0.2, inplace=True),\n",
        "            nn.Conv2d(self.dim_h, self.dim_h * 2, 4, 2, 1, bias=False), # 8\n",
        "            nn.BatchNorm2d(self.dim_h * 2),\n",
        "            nn.LeakyReLU(0.2, inplace=True),\n",
        "            nn.Conv2d(self.dim_h * 2, self.dim_h * 4, 4, 2, 1, bias=False),# 4\n",
        "            nn.BatchNorm2d(self.dim_h * 4),\n",
        "            nn.LeakyReLU(0.2, inplace=True),\n",
        "            nn.Conv2d(self.dim_h * 4, self.dim_h * 8, 4, 2, 0, bias=False),#14\n",
        "            nn.BatchNorm2d(self.dim_h * 8),\n",
        "            nn.LeakyReLU(0.2, inplace=True))\n",
        "        self.fc = nn.Linear(self.dim_h * (2 ** 3), self.n_z)\n",
        "\n",
        "    def forward(self, x):\n",
        "        x = self.conv(x)\n",
        "        \n",
        "        x = x.squeeze()\n",
        "        x = self.fc(x)\n",
        "        return x\n",
        "\n",
        "\n",
        "class Decoder(nn.Module):\n",
        "    def __init__(self, args):\n",
        "        super(Decoder, self).__init__()\n",
        "\n",
        "        self.n_channel = args['n_channel']\n",
        "        self.dim_h = args['dim_h']\n",
        "        self.n_z = args['n_z']\n",
        "\n",
        "        # first layer is fully connected\n",
        "        self.fc = nn.Sequential(\n",
        "            nn.Linear(self.n_z, self.dim_h * 2**3 * 7 * 7),\n",
        "            nn.ReLU())\n",
        "\n",
        "        # deconvolutional filters, essentially inverse of convolutional filters\n",
        "        # H_out ​= (H_in​−1)*stride[0] − 2×padding[0] + dilation[0]×(kernel_size[0]−1) + output_padding[0] + 1\n",
        "        self.deconv = nn.Sequential(\n",
        "            nn.ConvTranspose2d(self.dim_h * 8, self.dim_h * 4, 4), #10\n",
        "            nn.BatchNorm2d(self.dim_h * 4),\n",
        "            nn.ReLU(True),\n",
        "            nn.ConvTranspose2d(self.dim_h * 4, self.dim_h * 2, 4), #13\n",
        "            nn.BatchNorm2d(self.dim_h * 2),\n",
        "            nn.ReLU(True),\n",
        "            nn.ConvTranspose2d(self.dim_h * 2, self.dim_h, 4),# 16\n",
        "            nn.BatchNorm2d(self.dim_h),\n",
        "            nn.ReLU(True),\n",
        "            nn.ConvTranspose2d(self.dim_h, 3, 4, 2, 1),# 32\n",
        "            nn.UpsamplingBilinear2d(scale_factor=7),\n",
        "            nn.Tanh())\n",
        "\n",
        "    def forward(self, x):\n",
        "        x = self.fc(x)\n",
        "        x = x.view(-1, self.dim_h * 2**3, 7, 7)\n",
        "        x = self.deconv(x)\n",
        "        return x\n",
        "\n",
        "##############################################################################\n",
        "\"\"\"set models, loss functions\"\"\"\n",
        "# control which parameters are frozen / free for optimization\n",
        "def free_params(module: nn.Module):\n",
        "    for p in module.parameters():\n",
        "        p.requires_grad = True\n",
        "\n",
        "def frozen_params(module: nn.Module):\n",
        "    for p in module.parameters():\n",
        "        p.requires_grad = False\n",
        "\n",
        "def biased_get_class(X, y, c):\n",
        "    \n",
        "    xbeg = X[y == c]\n",
        "    ybeg = y[y == c]\n",
        "    \n",
        "    return xbeg, ybeg\n",
        "    #return xclass, yclass\n",
        "\n",
        "def G_SM(X, y,n_to_sample,cl):\n",
        "    n_neigh = 5\n",
        "    nn = NearestNeighbors(n_neighbors=n_neigh, n_jobs=1)\n",
        "    nn.fit(X)\n",
        "    dist, ind = nn.kneighbors(X)\n",
        "\n",
        "    # generating samples\n",
        "    base_indices = np.random.choice(list(range(len(X))),n_to_sample)\n",
        "    neighbor_indices = np.random.choice(list(range(1, n_neigh)),n_to_sample)\n",
        "\n",
        "    X_base = X[base_indices]\n",
        "    X_neighbor = X[ind[base_indices, neighbor_indices]]\n",
        "\n",
        "    samples = X_base + np.multiply(np.random.rand(n_to_sample,1),\n",
        "            X_neighbor - X_base)\n",
        "\n",
        "    #use 10 as label because 0 to 9 real classes and 1 fake/smoted = 10\n",
        "    return samples, [cl]*n_to_sample\n",
        "\n",
        "def DeepSMOTE_train(X_train, y_train, one_hot = False):\n",
        "  from torch.utils.data import TensorDataset\n",
        "  import os\n",
        "\n",
        "  max_el = np.max(X_train)\n",
        "  X_train = X_train / max_el\n",
        "  X_train = moveaxis(X_train, 3, 1)\n",
        "  if one_hot:\n",
        "    y_train = np.argmax(y_train, axis=1)\n",
        "  #X_train = X_train.astype('float32') / 255.\n",
        "  \n",
        "  batch_size = args['batch_size']\n",
        "  patience = args['patience']\n",
        "  encoder = Encoder(args)\n",
        "  decoder = Decoder(args)\n",
        "\n",
        "  device = 'cuda' if torch.cuda.is_available() else 'cpu'\n",
        "  print(device)\n",
        "  decoder = decoder.to(device)\n",
        "  encoder = encoder.to(device)\n",
        "\n",
        "  train_on_gpu = torch.cuda.is_available()\n",
        "\n",
        "  #decoder loss function\n",
        "  criterion = nn.MSELoss()\n",
        "  criterion = criterion.to(device)\n",
        "\n",
        "  num_workers = 0\n",
        "\n",
        "  #torch.Tensor returns float so if want long then use torch.tensor\n",
        "  tensor_x = torch.from_numpy(X_train.copy())#torch.Tensor(X_train)\n",
        "  tensor_y = torch.tensor(y_train,dtype=torch.long)\n",
        "  mnist_bal = TensorDataset(tensor_x,tensor_y) \n",
        "  train_loader = torch.utils.data.DataLoader(mnist_bal, \n",
        "      batch_size=batch_size,shuffle=True,num_workers=num_workers)\n",
        "\n",
        "  best_loss = np.inf\n",
        "\n",
        "  enc_optim = torch.optim.Adam(encoder.parameters(), lr = args['lr'])\n",
        "  dec_optim = torch.optim.Adam(decoder.parameters(), lr = args['lr'])\n",
        "\n",
        "  for epoch in range(args['epochs']):\n",
        "      train_loss = 0.0\n",
        "      tmse_loss = 0.0\n",
        "      tdiscr_loss = 0.0\n",
        "      # train for one epoch -- set nets to train mode\n",
        "      encoder.train()\n",
        "      decoder.train()\n",
        "  \n",
        "      for images,labs in train_loader:\n",
        "      \n",
        "          # zero gradients for each batch\n",
        "          encoder.zero_grad()\n",
        "          decoder.zero_grad()\n",
        "          images, labs = images.to(device), labs.to(device)\n",
        "          labsn = labs.detach().cpu().numpy()\n",
        "#            print('images shape', images.shape)\n",
        "          # run images\n",
        "          z_hat = encoder(images)\n",
        "#            print('images shape after encoding', z_hat.shape)\n",
        "      \n",
        "          x_hat = decoder(z_hat) #decoder outputs tanh\n",
        "#            print('images shape after decoding', x_hat.shape)\n",
        "          mse = criterion(x_hat,images)\n",
        "                  \n",
        "          resx = []\n",
        "          resy = []\n",
        "      \n",
        "          tc = np.random.choice(num_classes,1)\n",
        "          #tc = 9\n",
        "          xbeg = X_train[y_train == tc]\n",
        "          ybeg = y_train[y_train == tc] \n",
        "          xlen = len(xbeg)\n",
        "          nsamp = min(xlen, 100)\n",
        "          ind = np.random.choice(list(range(len(xbeg))),nsamp,replace=False)\n",
        "          xclass = xbeg[ind]\n",
        "          yclass = ybeg[ind]\n",
        "      \n",
        "          xclen = len(xclass)\n",
        "          xcminus = np.arange(1,xclen)\n",
        "          \n",
        "          xcplus = np.append(xcminus,0)\n",
        "          xcnew = (xclass[[xcplus],:])\n",
        "          xcnew = xcnew.reshape(xcnew.shape[1],xcnew.shape[2],xcnew.shape[3],xcnew.shape[4])\n",
        "      \n",
        "          xcnew = torch.Tensor(xcnew)\n",
        "          xcnew = xcnew.to(device)\n",
        "      \n",
        "          #encode xclass to feature space\n",
        "          xclass = torch.Tensor(xclass)\n",
        "          xclass = xclass.to(device)\n",
        "          xclass = encoder(xclass)\n",
        "      \n",
        "          xclass = xclass.detach().cpu().numpy()\n",
        "      \n",
        "          xc_enc = (xclass[[xcplus],:])\n",
        "          xc_enc = np.squeeze(xc_enc)\n",
        "      \n",
        "          xc_enc = torch.Tensor(xc_enc)\n",
        "          xc_enc = xc_enc.to(device)\n",
        "          \n",
        "          ximg = decoder(xc_enc)\n",
        "          \n",
        "          mse2 = criterion(ximg,xcnew)\n",
        "      \n",
        "          comb_loss = mse2 + mse\n",
        "          comb_loss.backward()\n",
        "      \n",
        "          enc_optim.step()\n",
        "          dec_optim.step()\n",
        "      \n",
        "          train_loss += comb_loss.item()*images.size(0)\n",
        "          tmse_loss += mse.item()*images.size(0)\n",
        "          tdiscr_loss += mse2.item()*images.size(0)\n",
        "\n",
        "      train_loss = train_loss/len(train_loader)\n",
        "      tmse_loss = tmse_loss/len(train_loader)\n",
        "      tdiscr_loss = tdiscr_loss/len(train_loader)\n",
        "      print('Epoch: {} \\tTrain Loss: {:.6f} \\tmse loss: {:.6f} \\tmse2 loss: {:.6f}'.format(epoch,\n",
        "              train_loss,tmse_loss,tdiscr_loss))\n",
        "      \n",
        "  \n",
        "  \n",
        "      #store the best encoder and decoder models\n",
        "      #here, /crs5 is a reference to 5 way cross validation, but is not\n",
        "      #necessary for illustration purposes\n",
        "      if train_loss < best_loss:\n",
        "          print('Saving..')\n",
        "          patience = args['patience']\n",
        "          path_enc = '/content/drive/MyDrive/PHD/Model/DeepSMOTE/32/bst_enc.pth'\n",
        "          path_dec = '/content/drive/MyDrive/PHD/Model/DeepSMOTE/32/bst_dec.pth'\n",
        "        \n",
        "          torch.save(encoder.state_dict(), path_enc)\n",
        "          torch.save(decoder.state_dict(), path_dec)\n",
        "  \n",
        "          best_loss = train_loss\n",
        "      else:\n",
        "          patience = patience - 1\n",
        "\n",
        "      if patience == 0:\n",
        "          print('Out of patience. \\n')\n",
        "          break\n",
        "\n",
        "def DeepSMOTE_Data(X_train, y_train, one_hot = False):\n",
        "  batch_size = args['batch_size']\n",
        "  max_el = np.max(X_train)\n",
        "  X_train = X_train / max_el\n",
        "  X_train = moveaxis(X_train, 3, 1)\n",
        "  if one_hot:\n",
        "    y_train = np.argmax(y_train, axis=1)\n",
        "  #Generate artificial images\n",
        "  import torch\n",
        "  np.printoptions(precision=5,suppress=True)\n",
        "\n",
        "  #path on the computer where the models are stored\n",
        "  modpth = '/content/drive/MyDrive/PHD/Model/DeepSMOTE/32/'\n",
        "\n",
        "  path_enc = modpth + '/bst_enc.pth'\n",
        "  path_dec = modpth + '/bst_dec.pth'\n",
        "  \n",
        "  train_on_gpu = torch.cuda.is_available()\n",
        "  device = 'cuda' if torch.cuda.is_available() else 'cpu'\n",
        "\n",
        "  encoder = Encoder(args)\n",
        "  encoder.load_state_dict(torch.load(path_enc), strict=False)\n",
        "  encoder = encoder.to(device)\n",
        "\n",
        "  decoder = Decoder(args)\n",
        "  decoder.load_state_dict(torch.load(path_dec), strict=False)\n",
        "  decoder = decoder.to(device)\n",
        "\n",
        "  encoder.eval()\n",
        "  decoder.eval()\n",
        "\n",
        "  resx = []\n",
        "  resy = []\n",
        "  \n",
        "  counter = Counter(y_train)\n",
        "  counter = sorted(counter.items())\n",
        "  counter = [value for _, value in counter]\n",
        "\n",
        "  for i in range(num_classes):\n",
        "      torch.cuda.empty_cache()\n",
        "\n",
        "      xclass, yclass = biased_get_class(X_train, y_train, i)\n",
        "      #encode xclass to feature space\n",
        "      xclass = torch.Tensor(xclass)\n",
        "      xclass = xclass.to(device)\n",
        "      xclass = encoder(xclass)\n",
        "          \n",
        "      xclass = xclass.detach().cpu().numpy()\n",
        "      n = np.max(counter) - counter[i]\n",
        "      if n == 0:\n",
        "        continue\n",
        "#        resx2 = []\n",
        "#        resy2 = []\n",
        "#        for j in range(batch_size, n+batch_size+1, batch_size):\n",
        "#          if j <= n:\n",
        "#            batch_size_max = batch_size\n",
        "#          elif n % batch_size != 0:\n",
        "#            batch_size_max = n%batch_size\n",
        "#          else:\n",
        "#            break\n",
        "#          xsamp, ysamp = G_SM(xclass,yclass,batch_size_max,i)\n",
        "      xsamp, ysamp = G_SM(xclass,yclass,n,i)\n",
        "      ysamp = np.array(ysamp)\n",
        "  \n",
        "      \"\"\"to generate samples for resnet\"\"\"   \n",
        "      xsamp = torch.Tensor(xsamp)\n",
        "      xsamp = xsamp.to(device)\n",
        "      ximg = decoder(xsamp)\n",
        "\n",
        "      ximn = ximg.detach().cpu().numpy()\n",
        "#        resx2.append(ximn)\n",
        "#        resy2.append(ysamp)\n",
        "#        \n",
        "#        resx2 = np.vstack(resx2)\n",
        "#        resy2 = np.hstack(resy2)\n",
        "      resx.append(ximn)\n",
        "      resy.append(ysamp)\n",
        "  \n",
        "  resx1 = np.vstack(resx)\n",
        "  resy1 = np.hstack(resy)\n",
        "  resx1 = resx1.reshape(resx1.shape[0],-1)\n",
        "  X_train = X_train.reshape(X_train.shape[0],-1)\n",
        "  X_train = np.vstack((resx1,X_train))\n",
        "  y_train = np.hstack((resy1,y_train))\n",
        "  y_train = to_categorical(y_train)\n",
        "  X_train = X_train.reshape(-1, 3, IMAGE_W, IMAGE_H)\n",
        "  X_train = moveaxis(X_train, 1, 3)\n",
        "  X_train = X_train * max_el\n",
        "  return X_train, y_train"
      ]
    },
    {
      "cell_type": "markdown",
      "metadata": {
        "id": "0jrJ33lUDkCM"
      },
      "source": [
        "#Split dataset to train and val"
      ]
    },
    {
      "cell_type": "code",
      "execution_count": null,
      "metadata": {
        "colab": {
          "base_uri": "https://localhost:8080/"
        },
        "id": "e6qneWL_Bs2U",
        "outputId": "cc7899de-f169-4850-dbe2-44ffb5a994d8"
      },
      "outputs": [
        {
          "name": "stdout",
          "output_type": "stream",
          "text": [
            "Train Data:  (11261, 224, 224, 3)\n",
            "Remaining Data:  (2816, 224, 224, 3)\n"
          ]
        }
      ],
      "source": [
        "# stratified train and rem (20%) datasets\n",
        "from sklearn.model_selection import train_test_split\n",
        "X_train, X_val, y_train, y_val = train_test_split(X_train, y_train, test_size=0.2, stratify=y_train, random_state=1)\n",
        "\n",
        "print('Train Data: ', X_train.shape)\n",
        "print('Remaining Data: ', X_val.shape)"
      ]
    },
    {
      "cell_type": "code",
      "execution_count": null,
      "metadata": {
        "id": "8Kef4r_zxjgk"
      },
      "outputs": [],
      "source": [
        "#Data Augmentation\n",
        "dataaugment = ImageDataGenerator(\n",
        "        rotation_range=90,  # randomly rotate images in the range (degrees, 0 to 180)\n",
        "        zoom_range = 0.1, # Randomly zoom image \n",
        "        width_shift_range=0.1,  # randomly shift images horizontally (fraction of total width)\n",
        "        height_shift_range=0.1,  # randomly shift images vertically (fraction of total height)\n",
        "        horizontal_flip=True,  # randomly flip images\n",
        "        vertical_flip=True,  # randomly flip images\n",
        "        shear_range = 10) \n",
        "\n",
        "dataaugment.fit(X_train)"
      ]
    },
    {
      "cell_type": "markdown",
      "metadata": {
        "id": "B2PgksTFkOAq"
      },
      "source": [
        "#Fine Tune"
      ]
    },
    {
      "cell_type": "code",
      "execution_count": null,
      "metadata": {
        "id": "Nr1jnSM7yzJc"
      },
      "outputs": [],
      "source": [
        "limit = 171\n",
        "for layer in model.layers[:limit]:\n",
        "   layer.trainable = False\n",
        "for layer in model.layers[limit:]:\n",
        "   layer.trainable = True\n",
        "\n",
        "optimizer_SGD = SGD(learning_rate=0.0001, momentum=0.9)\n",
        "model.compile(optimizer = optimizer_SGD , loss = \"categorical_crossentropy\", metrics=['accuracy', balanced_acc])\n",
        "hst2 = model.fit(train_data_batches,\n",
        "                    epochs = EPOCHS, validation_data = valid_data_batches,\n",
        "                    callbacks=[learning_rate_reduction,early_stopping_monitor, mc])\n"
      ]
    },
    {
      "cell_type": "code",
      "execution_count": null,
      "metadata": {
        "id": "vO1aAQBmiy0K"
      },
      "outputs": [],
      "source": [
        "# summarize history for accuracy\n",
        "plt.plot(hst2.history['balanced_acc'])\n",
        "plt.plot(hst2.history['val_balanced_acc'])\n",
        "plt.title('model balance_acc after tunning')\n",
        "plt.ylabel('accuracy')\n",
        "plt.xlabel('epoch')\n",
        "plt.legend(['train', 'val'], loc='upper left')\n",
        "plt.show()"
      ]
    }
  ],
  "metadata": {
    "accelerator": "GPU",
    "colab": {
      "collapsed_sections": [
        "UswA0co2y1wl",
        "iDRWiTnO0MGh",
        "eaK4zbtoaAaC",
        "3K908bbiYwbS",
        "kE8Ziq-BlEP4",
        "RcRGeofw-8tK",
        "cNBXx28B9yGu",
        "0jrJ33lUDkCM",
        "B2PgksTFkOAq"
      ],
      "machine_shape": "hm",
      "provenance": [],
      "include_colab_link": true
    },
    "gpuClass": "standard",
    "kernelspec": {
      "display_name": "Python 3",
      "name": "python3"
    },
    "language_info": {
      "name": "python"
    }
  },
  "nbformat": 4,
  "nbformat_minor": 0
}